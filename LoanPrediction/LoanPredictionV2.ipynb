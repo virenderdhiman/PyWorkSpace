{
 "cells": [
  {
   "cell_type": "code",
   "execution_count": 1,
   "metadata": {},
   "outputs": [
    {
     "name": "stderr",
     "output_type": "stream",
     "text": [
      "c:\\users\\dhiman\\anaconda3\\envs\\tensorflow\\lib\\site-packages\\sklearn\\cross_validation.py:41: DeprecationWarning: This module was deprecated in version 0.18 in favor of the model_selection module into which all the refactored classes and functions are moved. Also note that the interface of the new CV iterators are different from that of this module. This module will be removed in 0.20.\n",
      "  \"This module will be removed in 0.20.\", DeprecationWarning)\n"
     ]
    }
   ],
   "source": [
    "import pandas as pd\n",
    "import numpy as np\n",
    "import matplotlib.pyplot as plt\n",
    "import seaborn as sns\n",
    "from sklearn.preprocessing import Imputer\n",
    "from sklearn.preprocessing import PolynomialFeatures\n",
    "from sklearn.preprocessing import StandardScaler\n",
    "from sklearn.feature_selection import VarianceThreshold\n",
    "from sklearn.feature_selection import SelectFromModel\n",
    "from sklearn.utils import shuffle\n",
    "from sklearn.ensemble import RandomForestClassifier\n",
    "from scipy.stats import mode\n",
    "from sklearn.preprocessing import LabelEncoder\n",
    "from sklearn.linear_model import LogisticRegression\n",
    "from sklearn.cross_validation import KFold   #For K-fold cross validation\n",
    "from sklearn.tree import DecisionTreeClassifier, export_graphviz\n",
    "from sklearn import metrics\n",
    "from sklearn.pipeline import Pipeline\n",
    "from sklearn.model_selection import train_test_split\n",
    "from sklearn.preprocessing import StandardScaler\n",
    "\n",
    "pd.set_option('display.max_columns', 100)\n",
    "%matplotlib inline  \n",
    "plt.style.use('fivethirtyeight')\n",
    "seed=45"
   ]
  },
  {
   "cell_type": "code",
   "execution_count": 2,
   "metadata": {},
   "outputs": [],
   "source": [
    "#DOUBTS\n",
    "#How to decide if credit_history variable is non-numerical?\n",
    "#Ans:-credit_history is a nominal variable\n",
    "#How to print multiple graphs in one figure\n",
    "# is credit_history category or bindary or interval variable?\n",
    "#Ans:-credit_history is a nominal variable\n",
    "# is gender, married etc. are careorical or binary variable?\n",
    "#Ans:-gender, married etc are nominal variables\n",
    "# is dependents is a oridnal varialble or categorical variable\n",
    "#Ans:-dependents is nominal variable\n",
    "# is loan status is binary or categorical variable?\n",
    "#Ans:-loan_status is nominal variable\n",
    "\n",
    "#TODOs\n",
    "#write a loop to print multiple graphs for all numerical variables against all categorical variables \n",
    "#to analyze infomration in more detail\n",
    "# TODO:create plot of loan status of applicants using credit history and gender variable stacked together.i.e \n",
    "#You can also add gender into the mix  HOW????\n",
    "#Write a code to plot the graph to test this -A key hypothesis is that the whether a person is educated or \n",
    "#self-employed can combine to give a good estimate of loan amount."
   ]
  },
  {
   "cell_type": "code",
   "execution_count": 3,
   "metadata": {},
   "outputs": [
    {
     "data": {
      "text/html": [
       "<div>\n",
       "<style scoped>\n",
       "    .dataframe tbody tr th:only-of-type {\n",
       "        vertical-align: middle;\n",
       "    }\n",
       "\n",
       "    .dataframe tbody tr th {\n",
       "        vertical-align: top;\n",
       "    }\n",
       "\n",
       "    .dataframe thead th {\n",
       "        text-align: right;\n",
       "    }\n",
       "</style>\n",
       "<table border=\"1\" class=\"dataframe\">\n",
       "  <thead>\n",
       "    <tr style=\"text-align: right;\">\n",
       "      <th></th>\n",
       "      <th>Loan_ID</th>\n",
       "      <th>Gender</th>\n",
       "      <th>Married</th>\n",
       "      <th>Dependents</th>\n",
       "      <th>Education</th>\n",
       "      <th>Self_Employed</th>\n",
       "      <th>ApplicantIncome</th>\n",
       "      <th>CoapplicantIncome</th>\n",
       "      <th>LoanAmount</th>\n",
       "      <th>Loan_Amount_Term</th>\n",
       "      <th>Credit_History</th>\n",
       "      <th>Property_Area</th>\n",
       "      <th>Loan_Status</th>\n",
       "    </tr>\n",
       "  </thead>\n",
       "  <tbody>\n",
       "    <tr>\n",
       "      <th>0</th>\n",
       "      <td>LP001002</td>\n",
       "      <td>Male</td>\n",
       "      <td>No</td>\n",
       "      <td>0</td>\n",
       "      <td>Graduate</td>\n",
       "      <td>No</td>\n",
       "      <td>5849</td>\n",
       "      <td>0.0</td>\n",
       "      <td>NaN</td>\n",
       "      <td>360.0</td>\n",
       "      <td>1.0</td>\n",
       "      <td>Urban</td>\n",
       "      <td>Y</td>\n",
       "    </tr>\n",
       "    <tr>\n",
       "      <th>1</th>\n",
       "      <td>LP001003</td>\n",
       "      <td>Male</td>\n",
       "      <td>Yes</td>\n",
       "      <td>1</td>\n",
       "      <td>Graduate</td>\n",
       "      <td>No</td>\n",
       "      <td>4583</td>\n",
       "      <td>1508.0</td>\n",
       "      <td>128.0</td>\n",
       "      <td>360.0</td>\n",
       "      <td>1.0</td>\n",
       "      <td>Rural</td>\n",
       "      <td>N</td>\n",
       "    </tr>\n",
       "    <tr>\n",
       "      <th>2</th>\n",
       "      <td>LP001005</td>\n",
       "      <td>Male</td>\n",
       "      <td>Yes</td>\n",
       "      <td>0</td>\n",
       "      <td>Graduate</td>\n",
       "      <td>Yes</td>\n",
       "      <td>3000</td>\n",
       "      <td>0.0</td>\n",
       "      <td>66.0</td>\n",
       "      <td>360.0</td>\n",
       "      <td>1.0</td>\n",
       "      <td>Urban</td>\n",
       "      <td>Y</td>\n",
       "    </tr>\n",
       "    <tr>\n",
       "      <th>3</th>\n",
       "      <td>LP001006</td>\n",
       "      <td>Male</td>\n",
       "      <td>Yes</td>\n",
       "      <td>0</td>\n",
       "      <td>Not Graduate</td>\n",
       "      <td>No</td>\n",
       "      <td>2583</td>\n",
       "      <td>2358.0</td>\n",
       "      <td>120.0</td>\n",
       "      <td>360.0</td>\n",
       "      <td>1.0</td>\n",
       "      <td>Urban</td>\n",
       "      <td>Y</td>\n",
       "    </tr>\n",
       "    <tr>\n",
       "      <th>4</th>\n",
       "      <td>LP001008</td>\n",
       "      <td>Male</td>\n",
       "      <td>No</td>\n",
       "      <td>0</td>\n",
       "      <td>Graduate</td>\n",
       "      <td>No</td>\n",
       "      <td>6000</td>\n",
       "      <td>0.0</td>\n",
       "      <td>141.0</td>\n",
       "      <td>360.0</td>\n",
       "      <td>1.0</td>\n",
       "      <td>Urban</td>\n",
       "      <td>Y</td>\n",
       "    </tr>\n",
       "  </tbody>\n",
       "</table>\n",
       "</div>"
      ],
      "text/plain": [
       "    Loan_ID Gender Married Dependents     Education Self_Employed  \\\n",
       "0  LP001002   Male      No          0      Graduate            No   \n",
       "1  LP001003   Male     Yes          1      Graduate            No   \n",
       "2  LP001005   Male     Yes          0      Graduate           Yes   \n",
       "3  LP001006   Male     Yes          0  Not Graduate            No   \n",
       "4  LP001008   Male      No          0      Graduate            No   \n",
       "\n",
       "   ApplicantIncome  CoapplicantIncome  LoanAmount  Loan_Amount_Term  \\\n",
       "0             5849                0.0         NaN             360.0   \n",
       "1             4583             1508.0       128.0             360.0   \n",
       "2             3000                0.0        66.0             360.0   \n",
       "3             2583             2358.0       120.0             360.0   \n",
       "4             6000                0.0       141.0             360.0   \n",
       "\n",
       "   Credit_History Property_Area Loan_Status  \n",
       "0             1.0         Urban           Y  \n",
       "1             1.0         Rural           N  \n",
       "2             1.0         Urban           Y  \n",
       "3             1.0         Urban           Y  \n",
       "4             1.0         Urban           Y  "
      ]
     },
     "execution_count": 3,
     "metadata": {},
     "output_type": "execute_result"
    }
   ],
   "source": [
    "df_raw=pd.read_csv(\"./input/train.csv\")\n",
    "#test=pd.read_csv(\"./input/test.csv\")\n",
    "df_raw.head()\n",
    "#train.tail()\n",
    "#df.describe() # Get summary of numerical variables\n",
    "#df.shape\n",
    "#df.dtypes\n",
    "#df.info()"
   ]
  },
  {
   "cell_type": "code",
   "execution_count": 4,
   "metadata": {},
   "outputs": [
    {
     "data": {
      "text/plain": [
       "(614, 13)"
      ]
     },
     "execution_count": 4,
     "metadata": {},
     "output_type": "execute_result"
    }
   ],
   "source": [
    "df_raw.shape"
   ]
  },
  {
   "cell_type": "code",
   "execution_count": 5,
   "metadata": {},
   "outputs": [
    {
     "data": {
      "text/plain": [
       "Y    422\n",
       "N    192\n",
       "Name: Loan_Status, dtype: int64"
      ]
     },
     "execution_count": 5,
     "metadata": {},
     "output_type": "execute_result"
    }
   ],
   "source": [
    "#Check if there is any class imbalance on target column\n",
    "target_col='Loan_Status'\n",
    "df_raw[target_col].value_counts()"
   ]
  },
  {
   "cell_type": "code",
   "execution_count": 6,
   "metadata": {},
   "outputs": [
    {
     "data": {
      "text/html": [
       "<div>\n",
       "<style scoped>\n",
       "    .dataframe tbody tr th:only-of-type {\n",
       "        vertical-align: middle;\n",
       "    }\n",
       "\n",
       "    .dataframe tbody tr th {\n",
       "        vertical-align: top;\n",
       "    }\n",
       "\n",
       "    .dataframe thead th {\n",
       "        text-align: right;\n",
       "    }\n",
       "</style>\n",
       "<table border=\"1\" class=\"dataframe\">\n",
       "  <thead>\n",
       "    <tr style=\"text-align: right;\">\n",
       "      <th></th>\n",
       "      <th>Loan_ID</th>\n",
       "      <th>Gender</th>\n",
       "      <th>Married</th>\n",
       "      <th>Dependents</th>\n",
       "      <th>Education</th>\n",
       "      <th>Self_Employed</th>\n",
       "      <th>ApplicantIncome</th>\n",
       "      <th>CoapplicantIncome</th>\n",
       "      <th>LoanAmount</th>\n",
       "      <th>Loan_Amount_Term</th>\n",
       "      <th>Credit_History</th>\n",
       "      <th>Property_Area</th>\n",
       "    </tr>\n",
       "  </thead>\n",
       "  <tbody>\n",
       "    <tr>\n",
       "      <th>586</th>\n",
       "      <td>LP002916</td>\n",
       "      <td>Male</td>\n",
       "      <td>Yes</td>\n",
       "      <td>0</td>\n",
       "      <td>Graduate</td>\n",
       "      <td>No</td>\n",
       "      <td>2297</td>\n",
       "      <td>1522.0</td>\n",
       "      <td>104.0</td>\n",
       "      <td>360.0</td>\n",
       "      <td>1.0</td>\n",
       "      <td>Urban</td>\n",
       "    </tr>\n",
       "    <tr>\n",
       "      <th>321</th>\n",
       "      <td>LP002053</td>\n",
       "      <td>Male</td>\n",
       "      <td>Yes</td>\n",
       "      <td>3+</td>\n",
       "      <td>Graduate</td>\n",
       "      <td>No</td>\n",
       "      <td>4342</td>\n",
       "      <td>189.0</td>\n",
       "      <td>124.0</td>\n",
       "      <td>360.0</td>\n",
       "      <td>1.0</td>\n",
       "      <td>Semiurban</td>\n",
       "    </tr>\n",
       "    <tr>\n",
       "      <th>396</th>\n",
       "      <td>LP002277</td>\n",
       "      <td>Female</td>\n",
       "      <td>No</td>\n",
       "      <td>0</td>\n",
       "      <td>Graduate</td>\n",
       "      <td>No</td>\n",
       "      <td>3180</td>\n",
       "      <td>0.0</td>\n",
       "      <td>71.0</td>\n",
       "      <td>360.0</td>\n",
       "      <td>0.0</td>\n",
       "      <td>Urban</td>\n",
       "    </tr>\n",
       "    <tr>\n",
       "      <th>226</th>\n",
       "      <td>LP001754</td>\n",
       "      <td>Male</td>\n",
       "      <td>Yes</td>\n",
       "      <td>NaN</td>\n",
       "      <td>Not Graduate</td>\n",
       "      <td>Yes</td>\n",
       "      <td>4735</td>\n",
       "      <td>0.0</td>\n",
       "      <td>138.0</td>\n",
       "      <td>360.0</td>\n",
       "      <td>1.0</td>\n",
       "      <td>Urban</td>\n",
       "    </tr>\n",
       "    <tr>\n",
       "      <th>132</th>\n",
       "      <td>LP001478</td>\n",
       "      <td>Male</td>\n",
       "      <td>No</td>\n",
       "      <td>0</td>\n",
       "      <td>Graduate</td>\n",
       "      <td>No</td>\n",
       "      <td>2718</td>\n",
       "      <td>0.0</td>\n",
       "      <td>70.0</td>\n",
       "      <td>360.0</td>\n",
       "      <td>1.0</td>\n",
       "      <td>Semiurban</td>\n",
       "    </tr>\n",
       "  </tbody>\n",
       "</table>\n",
       "</div>"
      ],
      "text/plain": [
       "      Loan_ID  Gender Married Dependents     Education Self_Employed  \\\n",
       "586  LP002916    Male     Yes          0      Graduate            No   \n",
       "321  LP002053    Male     Yes         3+      Graduate            No   \n",
       "396  LP002277  Female      No          0      Graduate            No   \n",
       "226  LP001754    Male     Yes        NaN  Not Graduate           Yes   \n",
       "132  LP001478    Male      No          0      Graduate            No   \n",
       "\n",
       "     ApplicantIncome  CoapplicantIncome  LoanAmount  Loan_Amount_Term  \\\n",
       "586             2297             1522.0       104.0             360.0   \n",
       "321             4342              189.0       124.0             360.0   \n",
       "396             3180                0.0        71.0             360.0   \n",
       "226             4735                0.0       138.0             360.0   \n",
       "132             2718                0.0        70.0             360.0   \n",
       "\n",
       "     Credit_History Property_Area  \n",
       "586             1.0         Urban  \n",
       "321             1.0     Semiurban  \n",
       "396             0.0         Urban  \n",
       "226             1.0         Urban  \n",
       "132             1.0     Semiurban  "
      ]
     },
     "execution_count": 6,
     "metadata": {},
     "output_type": "execute_result"
    }
   ],
   "source": [
    "#Split data first.\n",
    "X=df_raw.drop(columns=[target_col])\n",
    "y=df_raw[target_col]\n",
    "X_train, X_test, y_train, y_test = train_test_split(X, y, random_state=seed)\n",
    "X_train.head()"
   ]
  },
  {
   "cell_type": "code",
   "execution_count": 7,
   "metadata": {},
   "outputs": [
    {
     "data": {
      "text/plain": [
       "array(['0', '3+', nan, '2', '1'], dtype=object)"
      ]
     },
     "execution_count": 7,
     "metadata": {},
     "output_type": "execute_result"
    }
   ],
   "source": [
    "# Add target column to X_train for EDA purpose and remove it before model fitting\n",
    "#X_train[target_col]=y\n",
    "#X_train.head()\n",
    "X_train['Dependents'].unique()"
   ]
  },
  {
   "cell_type": "code",
   "execution_count": 8,
   "metadata": {
    "scrolled": true
   },
   "outputs": [
    {
     "data": {
      "text/html": [
       "<div>\n",
       "<style scoped>\n",
       "    .dataframe tbody tr th:only-of-type {\n",
       "        vertical-align: middle;\n",
       "    }\n",
       "\n",
       "    .dataframe tbody tr th {\n",
       "        vertical-align: top;\n",
       "    }\n",
       "\n",
       "    .dataframe thead th {\n",
       "        text-align: right;\n",
       "    }\n",
       "</style>\n",
       "<table border=\"1\" class=\"dataframe\">\n",
       "  <thead>\n",
       "    <tr style=\"text-align: right;\">\n",
       "      <th></th>\n",
       "      <th>role</th>\n",
       "      <th>level</th>\n",
       "      <th>keep</th>\n",
       "      <th>dtype</th>\n",
       "    </tr>\n",
       "    <tr>\n",
       "      <th>varname</th>\n",
       "      <th></th>\n",
       "      <th></th>\n",
       "      <th></th>\n",
       "      <th></th>\n",
       "    </tr>\n",
       "  </thead>\n",
       "  <tbody>\n",
       "    <tr>\n",
       "      <th>Loan_ID</th>\n",
       "      <td>id</td>\n",
       "      <td>ordinal</td>\n",
       "      <td>True</td>\n",
       "      <td>object</td>\n",
       "    </tr>\n",
       "    <tr>\n",
       "      <th>Gender</th>\n",
       "      <td>input</td>\n",
       "      <td>nominal</td>\n",
       "      <td>True</td>\n",
       "      <td>object</td>\n",
       "    </tr>\n",
       "    <tr>\n",
       "      <th>Married</th>\n",
       "      <td>input</td>\n",
       "      <td>nominal</td>\n",
       "      <td>True</td>\n",
       "      <td>object</td>\n",
       "    </tr>\n",
       "    <tr>\n",
       "      <th>Dependents</th>\n",
       "      <td>input</td>\n",
       "      <td>ordinal</td>\n",
       "      <td>True</td>\n",
       "      <td>object</td>\n",
       "    </tr>\n",
       "    <tr>\n",
       "      <th>Education</th>\n",
       "      <td>input</td>\n",
       "      <td>nominal</td>\n",
       "      <td>True</td>\n",
       "      <td>object</td>\n",
       "    </tr>\n",
       "    <tr>\n",
       "      <th>Self_Employed</th>\n",
       "      <td>input</td>\n",
       "      <td>nominal</td>\n",
       "      <td>True</td>\n",
       "      <td>object</td>\n",
       "    </tr>\n",
       "    <tr>\n",
       "      <th>ApplicantIncome</th>\n",
       "      <td>input</td>\n",
       "      <td>interval</td>\n",
       "      <td>True</td>\n",
       "      <td>int64</td>\n",
       "    </tr>\n",
       "    <tr>\n",
       "      <th>CoapplicantIncome</th>\n",
       "      <td>input</td>\n",
       "      <td>ratio</td>\n",
       "      <td>True</td>\n",
       "      <td>float64</td>\n",
       "    </tr>\n",
       "    <tr>\n",
       "      <th>LoanAmount</th>\n",
       "      <td>input</td>\n",
       "      <td>ratio</td>\n",
       "      <td>True</td>\n",
       "      <td>float64</td>\n",
       "    </tr>\n",
       "    <tr>\n",
       "      <th>Loan_Amount_Term</th>\n",
       "      <td>input</td>\n",
       "      <td>ratio</td>\n",
       "      <td>True</td>\n",
       "      <td>float64</td>\n",
       "    </tr>\n",
       "    <tr>\n",
       "      <th>Credit_History</th>\n",
       "      <td>input</td>\n",
       "      <td>nominal</td>\n",
       "      <td>True</td>\n",
       "      <td>float64</td>\n",
       "    </tr>\n",
       "    <tr>\n",
       "      <th>Property_Area</th>\n",
       "      <td>input</td>\n",
       "      <td>nominal</td>\n",
       "      <td>True</td>\n",
       "      <td>object</td>\n",
       "    </tr>\n",
       "  </tbody>\n",
       "</table>\n",
       "</div>"
      ],
      "text/plain": [
       "                    role     level  keep    dtype\n",
       "varname                                          \n",
       "Loan_ID               id   ordinal  True   object\n",
       "Gender             input   nominal  True   object\n",
       "Married            input   nominal  True   object\n",
       "Dependents         input   ordinal  True   object\n",
       "Education          input   nominal  True   object\n",
       "Self_Employed      input   nominal  True   object\n",
       "ApplicantIncome    input  interval  True    int64\n",
       "CoapplicantIncome  input     ratio  True  float64\n",
       "LoanAmount         input     ratio  True  float64\n",
       "Loan_Amount_Term   input     ratio  True  float64\n",
       "Credit_History     input   nominal  True  float64\n",
       "Property_Area      input   nominal  True   object"
      ]
     },
     "execution_count": 8,
     "metadata": {},
     "output_type": "execute_result"
    }
   ],
   "source": [
    "#Create a meta data table to distinguish levels of data columns\n",
    "data = []\n",
    "for f in X_train.columns:\n",
    "    # Defining the role\n",
    "    if f == 'Loan_Status':\n",
    "        role = 'target'\n",
    "    elif f == 'Loan_ID':\n",
    "        role = 'id'\n",
    "    else:\n",
    "        role = 'input'\n",
    "         \n",
    "    # Defining the level\n",
    "    if f == 'Gender' or f == 'Married' or f == 'Education' or f == 'Credit_History' or f == 'Self_Employed' or f == 'Property_Area' or f == 'Loan_Status':\n",
    "        level = 'nominal' \n",
    "    elif X_train[f].dtype == 'int64' :\n",
    "        level = 'interval'\n",
    "    elif X_train[f].dtype == 'float64' and f != 'Credit_History':\n",
    "        level = 'ratio'\n",
    "    elif   f == 'Loan_ID' or f == 'Dependents':\n",
    "        level = 'ordinal'\n",
    "        \n",
    "    # Initialize keep to True for all variables except for id\n",
    "    keep = True\n",
    "    #if f == 'Loan_ID':\n",
    "     #   keep = False\n",
    "    \n",
    "    # Defining the data type \n",
    "    dtype = X_train[f].dtype\n",
    "    \n",
    "    # Creating a Dict that contains all the metadata for the variable\n",
    "    f_dict = {\n",
    "        'varname': f,\n",
    "        'role': role,\n",
    "        'level': level,\n",
    "        'keep': keep,\n",
    "        'dtype': dtype\n",
    "    }\n",
    "    data.append(f_dict)\n",
    "    \n",
    "meta = pd.DataFrame(data, columns=['varname', 'role', 'level', 'keep', 'dtype'])\n",
    "meta.set_index('varname', inplace=True)\n",
    "meta"
   ]
  },
  {
   "cell_type": "code",
   "execution_count": 9,
   "metadata": {},
   "outputs": [
    {
     "name": "stdout",
     "output_type": "stream",
     "text": [
      "Variable Loan_ID has 460 distinct values\n",
      "Variable Gender has 2 distinct values\n",
      "Variable Married has 2 distinct values\n",
      "Variable Dependents has 4 distinct values\n",
      "Variable Education has 2 distinct values\n",
      "Variable Self_Employed has 2 distinct values\n",
      "Variable Credit_History has 2 distinct values\n",
      "Variable Property_Area has 3 distinct values\n"
     ]
    }
   ],
   "source": [
    "#Check the value counts of nominal variables\n",
    "nominal_ordinal_cols = meta[(meta.level == 'nominal' ) | (meta.level == 'ordinal') & (meta.keep)].index\n",
    "for f in nominal_ordinal_cols:\n",
    "    dist_values = X_train[f].value_counts().shape[0]\n",
    "    print('Variable {} has {} distinct values'.format(f, dist_values))"
   ]
  },
  {
   "cell_type": "code",
   "execution_count": 10,
   "metadata": {},
   "outputs": [
    {
     "name": "stdout",
     "output_type": "stream",
     "text": [
      "Variable Gender has 2 distinct values\n",
      "Variable Married has 2 distinct values\n",
      "Variable Education has 2 distinct values\n",
      "Variable Self_Employed has 2 distinct values\n",
      "Variable Credit_History has 2 distinct values\n",
      "Variable Property_Area has 3 distinct values\n"
     ]
    }
   ],
   "source": [
    "nominal_cols = meta[(meta.level == 'nominal' ) & (meta.keep)].index\n",
    "for f in nominal_cols:\n",
    "    dist_values = X_train[f].value_counts().shape[0]\n",
    "    print('Variable {} has {} distinct values'.format(f, dist_values))"
   ]
  },
  {
   "cell_type": "code",
   "execution_count": 11,
   "metadata": {
    "scrolled": true
   },
   "outputs": [
    {
     "data": {
      "image/png": "[encoded data removed]",
      "text/plain": [
       "<Figure size 1440x720 with 6 Axes>"
      ]
     },
     "metadata": {},
     "output_type": "display_data"
    }
   ],
   "source": [
    "#plot nominal variables\n",
    "fig = plt.figure()\n",
    "i=1\n",
    "for f in nominal_cols:\n",
    "    axi = fig.add_subplot(2, 4,i)\n",
    "    X_train[f].value_counts().sort_values(ascending=False).head(20).plot(kind='bar',fontsize=15,legend='true',figsize=(20, 10),ax=axi)\n",
    "    i=i+1   \n"
   ]
  },
  {
   "cell_type": "code",
   "execution_count": 12,
   "metadata": {},
   "outputs": [
    {
     "data": {
      "image/png": "[encoded data removed]",
      "text/plain": [
       "<Figure size 1440x720 with 6 Axes>"
      ]
     },
     "metadata": {},
     "output_type": "display_data"
    }
   ],
   "source": [
    "#plot nominal variables with target variable information\n",
    "#v = meta[(meta.level == 'nominal' ) & (meta.keep)].index\n",
    "fig = plt.figure()\n",
    "i=1\n",
    "for f in nominal_cols:\n",
    "    if f != 'Loan_Status' :\n",
    "        axi = fig.add_subplot(2, 4,i)\n",
    "        temp = pd.crosstab(X_train[f], y_train)\n",
    "        #df[f].value_counts().sort_values(ascending=False).head(20).plot(kind='bar',fontsize=15,legend='true',figsize=(20, 10),ax=axi)\n",
    "        temp.plot(kind='bar', stacked=True, color=['red','blue'], grid=False,fontsize=15,legend='true',figsize=(20, 10),ax=axi)\n",
    "        i=i+1\n",
    "\n"
   ]
  },
  {
   "cell_type": "code",
   "execution_count": 13,
   "metadata": {},
   "outputs": [
    {
     "data": {
      "image/png": "[encoded data removed]",
      "text/plain": [
       "<Figure size 1440x720 with 1 Axes>"
      ]
     },
     "metadata": {},
     "output_type": "display_data"
    }
   ],
   "source": [
    "#plot nominal variables with target variable information\n",
    "ordinal_cols = meta[(meta.level == 'ordinal' ) & (meta.keep)].index\n",
    "fig = plt.figure()\n",
    "i=1\n",
    "for f in ordinal_cols:\n",
    "    if f != 'Loan_ID' :\n",
    "        axi = fig.add_subplot(2, 4,i)\n",
    "        #temp = pd.crosstab(df[f], df['Loan_Status'])\n",
    "        X_train[f].value_counts().sort_values(ascending=False).plot(kind='box',fontsize=15,legend='true',figsize=(20, 10),ax=axi)\n",
    "        #temp.plot(kind='bar', stacked=True, color=['red','blue'], grid=False,fontsize=15,legend='true',figsize=(20, 10),ax=axi)\n",
    "        i=i+1"
   ]
  },
  {
   "cell_type": "code",
   "execution_count": 14,
   "metadata": {},
   "outputs": [],
   "source": [
    "def summarize(data):\n",
    "    \"\"\"Create a summary of the input data including min, max,\n",
    "    mean, median, num obs missing, IQR, etc.\n",
    "    \n",
    "    Parameters\n",
    "    ----------\n",
    "    data : pd.DataFrame\n",
    "        The input dataframe to summarize.\n",
    "    \"\"\"\n",
    "    summ = data.describe()\n",
    "    \n",
    "    # get the median, name it\n",
    "    med = data.median()\n",
    "    med.name = \"median\"\n",
    "    \n",
    "    # append the median row\n",
    "    summ = summ.append(med, ignore_index=False)\n",
    "    \n",
    "    return summ"
   ]
  },
  {
   "cell_type": "code",
   "execution_count": 15,
   "metadata": {},
   "outputs": [
    {
     "data": {
      "text/html": [
       "<div>\n",
       "<style scoped>\n",
       "    .dataframe tbody tr th:only-of-type {\n",
       "        vertical-align: middle;\n",
       "    }\n",
       "\n",
       "    .dataframe tbody tr th {\n",
       "        vertical-align: top;\n",
       "    }\n",
       "\n",
       "    .dataframe thead th {\n",
       "        text-align: right;\n",
       "    }\n",
       "</style>\n",
       "<table border=\"1\" class=\"dataframe\">\n",
       "  <thead>\n",
       "    <tr style=\"text-align: right;\">\n",
       "      <th></th>\n",
       "      <th>ApplicantIncome</th>\n",
       "      <th>CoapplicantIncome</th>\n",
       "      <th>LoanAmount</th>\n",
       "      <th>Loan_Amount_Term</th>\n",
       "    </tr>\n",
       "  </thead>\n",
       "  <tbody>\n",
       "    <tr>\n",
       "      <th>count</th>\n",
       "      <td>460.000000</td>\n",
       "      <td>460.000000</td>\n",
       "      <td>443.000000</td>\n",
       "      <td>448.000000</td>\n",
       "    </tr>\n",
       "    <tr>\n",
       "      <th>mean</th>\n",
       "      <td>5556.543478</td>\n",
       "      <td>1541.375652</td>\n",
       "      <td>145.568849</td>\n",
       "      <td>341.598214</td>\n",
       "    </tr>\n",
       "    <tr>\n",
       "      <th>std</th>\n",
       "      <td>6453.678536</td>\n",
       "      <td>3074.940947</td>\n",
       "      <td>85.517491</td>\n",
       "      <td>64.463501</td>\n",
       "    </tr>\n",
       "    <tr>\n",
       "      <th>min</th>\n",
       "      <td>150.000000</td>\n",
       "      <td>0.000000</td>\n",
       "      <td>25.000000</td>\n",
       "      <td>12.000000</td>\n",
       "    </tr>\n",
       "    <tr>\n",
       "      <th>25%</th>\n",
       "      <td>2887.250000</td>\n",
       "      <td>0.000000</td>\n",
       "      <td>100.000000</td>\n",
       "      <td>360.000000</td>\n",
       "    </tr>\n",
       "    <tr>\n",
       "      <th>50%</th>\n",
       "      <td>3812.500000</td>\n",
       "      <td>1007.000000</td>\n",
       "      <td>126.000000</td>\n",
       "      <td>360.000000</td>\n",
       "    </tr>\n",
       "    <tr>\n",
       "      <th>75%</th>\n",
       "      <td>5818.750000</td>\n",
       "      <td>2193.250000</td>\n",
       "      <td>164.500000</td>\n",
       "      <td>360.000000</td>\n",
       "    </tr>\n",
       "    <tr>\n",
       "      <th>max</th>\n",
       "      <td>81000.000000</td>\n",
       "      <td>41667.000000</td>\n",
       "      <td>650.000000</td>\n",
       "      <td>480.000000</td>\n",
       "    </tr>\n",
       "    <tr>\n",
       "      <th>median</th>\n",
       "      <td>3812.500000</td>\n",
       "      <td>1007.000000</td>\n",
       "      <td>126.000000</td>\n",
       "      <td>360.000000</td>\n",
       "    </tr>\n",
       "  </tbody>\n",
       "</table>\n",
       "</div>"
      ],
      "text/plain": [
       "        ApplicantIncome  CoapplicantIncome  LoanAmount  Loan_Amount_Term\n",
       "count        460.000000         460.000000  443.000000        448.000000\n",
       "mean        5556.543478        1541.375652  145.568849        341.598214\n",
       "std         6453.678536        3074.940947   85.517491         64.463501\n",
       "min          150.000000           0.000000   25.000000         12.000000\n",
       "25%         2887.250000           0.000000  100.000000        360.000000\n",
       "50%         3812.500000        1007.000000  126.000000        360.000000\n",
       "75%         5818.750000        2193.250000  164.500000        360.000000\n",
       "max        81000.000000       41667.000000  650.000000        480.000000\n",
       "median      3812.500000        1007.000000  126.000000        360.000000"
      ]
     },
     "execution_count": 15,
     "metadata": {},
     "output_type": "execute_result"
    }
   ],
   "source": [
    "#Get summary of numerical variables\n",
    "ratio_interval_cols = meta[( meta.level == 'ratio') | (meta.level == 'interval') & (meta.keep)].index\n",
    "#df[v].describe()\n",
    "summarize(X_train[ratio_interval_cols])"
   ]
  },
  {
   "cell_type": "code",
   "execution_count": 16,
   "metadata": {},
   "outputs": [
    {
     "data": {
      "text/plain": [
       "\"\\nfor col in ratio_interval_cols:    \\n    plt.hist(X_train[y_train=='Y'][col], 10, alpha=0.5, label='Loan Approved')\\n    plt.hist(X_train[y_train=='N'][col], 10, alpha=0.5, label='Loan Denied')\\n    plt.legend(loc='upper right')\\n    plt.xlabel(col)\\n    plt.ylabel('Frequency')\\n    plt.title('Histogram of {}'.format(col))\\n    plt.show()\""
      ]
     },
     "execution_count": 16,
     "metadata": {},
     "output_type": "execute_result"
    }
   ],
   "source": [
    "'''\n",
    "for col in ratio_interval_cols:    \n",
    "    plt.hist(X_train[y_train=='Y'][col], 10, alpha=0.5, label='Loan Approved')\n",
    "    plt.hist(X_train[y_train=='N'][col], 10, alpha=0.5, label='Loan Denied')\n",
    "    plt.legend(loc='upper right')\n",
    "    plt.xlabel(col)\n",
    "    plt.ylabel('Frequency')\n",
    "    plt.title('Histogram of {}'.format(col))\n",
    "    plt.show()'''"
   ]
  },
  {
   "cell_type": "code",
   "execution_count": 17,
   "metadata": {},
   "outputs": [
    {
     "data": {
      "image/png": "[encoded data removed]",
      "text/plain": [
       "<Figure size 1440x720 with 4 Axes>"
      ]
     },
     "metadata": {},
     "output_type": "display_data"
    }
   ],
   "source": [
    "#plot interval variables\n",
    "#v = meta[(meta.level == 'ratio' ) | (meta.level == 'interval') & (meta.keep)].index\n",
    "fig = plt.figure()\n",
    "i=1\n",
    "for f in ratio_interval_cols:\n",
    "        axi = fig.add_subplot(2, 4,i)\n",
    "        #temp = pd.crosstab(df[f], df['Loan_Status'])\n",
    "        X_train[f].plot(kind='hist',fontsize=15,legend='true',title=f,figsize=(20, 10),ax=axi,bins=50)        \n",
    "        #temp.plot(kind='hist', stacked=True, color=['red','blue'], grid=False,fontsize=15,legend='true',figsize=(20, 10),ax=axi)\n",
    "        # axi.hist(temp)\n",
    "        i=i+1\n",
    "        \n"
   ]
  },
  {
   "cell_type": "code",
   "execution_count": 18,
   "metadata": {},
   "outputs": [
    {
     "data": {
      "image/png": "[encoded data removed]",
      "text/plain": [
       "<Figure size 1440x720 with 4 Axes>"
      ]
     },
     "metadata": {},
     "output_type": "display_data"
    }
   ],
   "source": [
    "#plot interval variables\n",
    "#v = meta[(meta.level == 'ratio' ) | (meta.level == 'interval') & (meta.keep)].index\n",
    "fig = plt.figure()\n",
    "i=1\n",
    "for f in ratio_interval_cols:\n",
    "        axi = fig.add_subplot(2, 4,i)\n",
    "        #temp = pd.crosstab(df[f], df['Loan_Status'])\n",
    "        X_train[f].plot(kind='box',fontsize=15,legend='true',figsize=(20, 10),ax=axi)        \n",
    "        #temp.plot(kind='bar', stacked=True, color=['red','blue'], grid=False,fontsize=15,legend='true',figsize=(20, 10),ax=axi)\n",
    "        i=i+1"
   ]
  },
  {
   "cell_type": "code",
   "execution_count": 19,
   "metadata": {},
   "outputs": [
    {
     "data": {
      "image/png": "[encoded data removed]",
      "text/plain": [
       "<Figure size 720x720 with 20 Axes>"
      ]
     },
     "metadata": {},
     "output_type": "display_data"
    },
    {
     "data": {
      "image/png": "[encoded data removed]",
      "text/plain": [
       "<Figure size 945.5x864 with 20 Axes>"
      ]
     },
     "metadata": {},
     "output_type": "display_data"
    }
   ],
   "source": [
    "def pairplots(data, target_col_name,plot_type):\n",
    "    # need to append target\n",
    "    data = data.copy()  \n",
    "    data[target_col_name]=y_train\n",
    "    # get rid of NA to avoid warnings in seaborn\n",
    "    data = data.dropna()\n",
    "    if plot_type=='default' :\n",
    "        sns.pairplot(data)\n",
    "    else :\n",
    "         #make a KDE pairplot\n",
    "             sns.pairplot(data, diag_kind=\"kde\", markers=\"+\",\n",
    "                            plot_kws=dict(s=50, edgecolor=\"b\", linewidth=1),\n",
    "                             diag_kws=dict(shade=True), hue=target_col_name,\n",
    "                            size=3)\n",
    "pairplots(X_train[ratio_interval_cols], 'Loan_Status','default')\n",
    "pairplots(X_train[ratio_interval_cols], 'Loan_Status','kde')"
   ]
  },
  {
   "cell_type": "code",
   "execution_count": 20,
   "metadata": {},
   "outputs": [
    {
     "data": {
      "text/html": [
       "<style  type=\"text/css\" >\n",
       "    #T_b21c9d8c_4743_11e8_b705_b05216c72ca4 th {\n",
       "          font-size: 7pt;\n",
       "    }    #T_b21c9d8c_4743_11e8_b705_b05216c72ca4 td {\n",
       "          padding: 0em 0em;\n",
       "    }    #T_b21c9d8c_4743_11e8_b705_b05216c72ca4 th:hover {\n",
       "          font-size: 12pt;\n",
       "    }    #T_b21c9d8c_4743_11e8_b705_b05216c72ca4 tr:hover td:hover {\n",
       "          max-width: 200px;\n",
       "          font-size: 12pt;\n",
       "    }    #T_b21c9d8c_4743_11e8_b705_b05216c72ca4row0_col0 {\n",
       "            background-color:  #4479bb;\n",
       "            max-width:  80px;\n",
       "            font-size:  10pt;\n",
       "        }    #T_b21c9d8c_4743_11e8_b705_b05216c72ca4row0_col1 {\n",
       "            background-color:  #d73c5b;\n",
       "            max-width:  80px;\n",
       "            font-size:  10pt;\n",
       "        }    #T_b21c9d8c_4743_11e8_b705_b05216c72ca4row0_col2 {\n",
       "            background-color:  #d9e4f1;\n",
       "            max-width:  80px;\n",
       "            font-size:  10pt;\n",
       "        }    #T_b21c9d8c_4743_11e8_b705_b05216c72ca4row0_col3 {\n",
       "            background-color:  #dc5570;\n",
       "            max-width:  80px;\n",
       "            font-size:  10pt;\n",
       "        }    #T_b21c9d8c_4743_11e8_b705_b05216c72ca4row1_col0 {\n",
       "            background-color:  #d73c5b;\n",
       "            max-width:  80px;\n",
       "            font-size:  10pt;\n",
       "        }    #T_b21c9d8c_4743_11e8_b705_b05216c72ca4row1_col1 {\n",
       "            background-color:  #4479bb;\n",
       "            max-width:  80px;\n",
       "            font-size:  10pt;\n",
       "        }    #T_b21c9d8c_4743_11e8_b705_b05216c72ca4row1_col2 {\n",
       "            background-color:  #ea97a8;\n",
       "            max-width:  80px;\n",
       "            font-size:  10pt;\n",
       "        }    #T_b21c9d8c_4743_11e8_b705_b05216c72ca4row1_col3 {\n",
       "            background-color:  #d94764;\n",
       "            max-width:  80px;\n",
       "            font-size:  10pt;\n",
       "        }    #T_b21c9d8c_4743_11e8_b705_b05216c72ca4row2_col0 {\n",
       "            background-color:  #f2f2f2;\n",
       "            max-width:  80px;\n",
       "            font-size:  10pt;\n",
       "        }    #T_b21c9d8c_4743_11e8_b705_b05216c72ca4row2_col1 {\n",
       "            background-color:  #e16981;\n",
       "            max-width:  80px;\n",
       "            font-size:  10pt;\n",
       "        }    #T_b21c9d8c_4743_11e8_b705_b05216c72ca4row2_col2 {\n",
       "            background-color:  #4479bb;\n",
       "            max-width:  80px;\n",
       "            font-size:  10pt;\n",
       "        }    #T_b21c9d8c_4743_11e8_b705_b05216c72ca4row2_col3 {\n",
       "            background-color:  #d73c5b;\n",
       "            max-width:  80px;\n",
       "            font-size:  10pt;\n",
       "        }    #T_b21c9d8c_4743_11e8_b705_b05216c72ca4row3_col0 {\n",
       "            background-color:  #da4865;\n",
       "            max-width:  80px;\n",
       "            font-size:  10pt;\n",
       "        }    #T_b21c9d8c_4743_11e8_b705_b05216c72ca4row3_col1 {\n",
       "            background-color:  #d73c5b;\n",
       "            max-width:  80px;\n",
       "            font-size:  10pt;\n",
       "        }    #T_b21c9d8c_4743_11e8_b705_b05216c72ca4row3_col2 {\n",
       "            background-color:  #df637c;\n",
       "            max-width:  80px;\n",
       "            font-size:  10pt;\n",
       "        }    #T_b21c9d8c_4743_11e8_b705_b05216c72ca4row3_col3 {\n",
       "            background-color:  #4479bb;\n",
       "            max-width:  80px;\n",
       "            font-size:  10pt;\n",
       "        }</style>  \n",
       "<table id=\"T_b21c9d8c_4743_11e8_b705_b05216c72ca4\" ><caption>Hover to magify</caption> \n",
       "<thead>    <tr> \n",
       "        <th class=\"blank level0\" ></th> \n",
       "        <th class=\"col_heading level0 col0\" >ApplicantIncome</th> \n",
       "        <th class=\"col_heading level0 col1\" >CoapplicantIncome</th> \n",
       "        <th class=\"col_heading level0 col2\" >LoanAmount</th> \n",
       "        <th class=\"col_heading level0 col3\" >Loan_Amount_Term</th> \n",
       "    </tr></thead> \n",
       "<tbody>    <tr> \n",
       "        <th id=\"T_b21c9d8c_4743_11e8_b705_b05216c72ca4level0_row0\" class=\"row_heading level0 row0\" >ApplicantIncome</th> \n",
       "        <td id=\"T_b21c9d8c_4743_11e8_b705_b05216c72ca4row0_col0\" class=\"data row0 col0\" >1</td> \n",
       "        <td id=\"T_b21c9d8c_4743_11e8_b705_b05216c72ca4row0_col1\" class=\"data row0 col1\" >-0.12</td> \n",
       "        <td id=\"T_b21c9d8c_4743_11e8_b705_b05216c72ca4row0_col2\" class=\"data row0 col2\" >0.52</td> \n",
       "        <td id=\"T_b21c9d8c_4743_11e8_b705_b05216c72ca4row0_col3\" class=\"data row0 col3\" >-0.043</td> \n",
       "    </tr>    <tr> \n",
       "        <th id=\"T_b21c9d8c_4743_11e8_b705_b05216c72ca4level0_row1\" class=\"row_heading level0 row1\" >CoapplicantIncome</th> \n",
       "        <td id=\"T_b21c9d8c_4743_11e8_b705_b05216c72ca4row1_col0\" class=\"data row1 col0\" >-0.12</td> \n",
       "        <td id=\"T_b21c9d8c_4743_11e8_b705_b05216c72ca4row1_col1\" class=\"data row1 col1\" >1</td> \n",
       "        <td id=\"T_b21c9d8c_4743_11e8_b705_b05216c72ca4row1_col2\" class=\"data row1 col2\" >0.16</td> \n",
       "        <td id=\"T_b21c9d8c_4743_11e8_b705_b05216c72ca4row1_col3\" class=\"data row1 col3\" >-0.084</td> \n",
       "    </tr>    <tr> \n",
       "        <th id=\"T_b21c9d8c_4743_11e8_b705_b05216c72ca4level0_row2\" class=\"row_heading level0 row2\" >LoanAmount</th> \n",
       "        <td id=\"T_b21c9d8c_4743_11e8_b705_b05216c72ca4row2_col0\" class=\"data row2 col0\" >0.52</td> \n",
       "        <td id=\"T_b21c9d8c_4743_11e8_b705_b05216c72ca4row2_col1\" class=\"data row2 col1\" >0.16</td> \n",
       "        <td id=\"T_b21c9d8c_4743_11e8_b705_b05216c72ca4row2_col2\" class=\"data row2 col2\" >1</td> \n",
       "        <td id=\"T_b21c9d8c_4743_11e8_b705_b05216c72ca4row2_col3\" class=\"data row2 col3\" >0.037</td> \n",
       "    </tr>    <tr> \n",
       "        <th id=\"T_b21c9d8c_4743_11e8_b705_b05216c72ca4level0_row3\" class=\"row_heading level0 row3\" >Loan_Amount_Term</th> \n",
       "        <td id=\"T_b21c9d8c_4743_11e8_b705_b05216c72ca4row3_col0\" class=\"data row3 col0\" >-0.043</td> \n",
       "        <td id=\"T_b21c9d8c_4743_11e8_b705_b05216c72ca4row3_col1\" class=\"data row3 col1\" >-0.084</td> \n",
       "        <td id=\"T_b21c9d8c_4743_11e8_b705_b05216c72ca4row3_col2\" class=\"data row3 col2\" >0.037</td> \n",
       "        <td id=\"T_b21c9d8c_4743_11e8_b705_b05216c72ca4row3_col3\" class=\"data row3 col3\" >1</td> \n",
       "    </tr></tbody> \n",
       "</table> "
      ],
      "text/plain": [
       "<pandas.io.formats.style.Styler at 0x2229b3cb2e8>"
      ]
     },
     "execution_count": 20,
     "metadata": {},
     "output_type": "execute_result"
    }
   ],
   "source": [
    "corr = X_train[ratio_interval_cols].corr()\n",
    "\n",
    "# color map (https://stackoverflow.com/questions/39409866/correlation-heatmap)\n",
    "cmap = cmap=sns.diverging_palette(5, 250, as_cmap=True)\n",
    "\n",
    "def magnify():\n",
    "    return [dict(selector=\"th\",\n",
    "                 props=[(\"font-size\", \"7pt\")]),\n",
    "            dict(selector=\"td\",\n",
    "                 props=[('padding', \"0em 0em\")]),\n",
    "            dict(selector=\"th:hover\",\n",
    "                 props=[(\"font-size\", \"12pt\")]),\n",
    "            dict(selector=\"tr:hover td:hover\",\n",
    "                 props=[('max-width', '200px'),\n",
    "                        ('font-size', '12pt')])\n",
    "           ]\n",
    "\n",
    "corr.style.background_gradient(cmap, axis=1)\\\n",
    "    .set_properties(**{'max-width': '80px', 'font-size': '10pt'})\\\n",
    "    .set_caption(\"Hover to magify\")\\\n",
    "    .set_precision(2)\\\n",
    "    .set_table_styles(magnify())"
   ]
  },
  {
   "cell_type": "code",
   "execution_count": 21,
   "metadata": {},
   "outputs": [
    {
     "data": {
      "text/plain": [
       "<matplotlib.axes._subplots.AxesSubplot at 0x2229b3cb518>"
      ]
     },
     "execution_count": 21,
     "metadata": {},
     "output_type": "execute_result"
    },
    {
     "data": {
      "image/png": "[encoded data removed]",
      "text/plain": [
       "<Figure size 432x288 with 2 Axes>"
      ]
     },
     "metadata": {},
     "output_type": "display_data"
    }
   ],
   "source": [
    "sns.heatmap( X_train[ratio_interval_cols].corr())"
   ]
  },
  {
   "cell_type": "code",
   "execution_count": 22,
   "metadata": {},
   "outputs": [
    {
     "data": {
      "text/plain": [
       "Loan_ID               0\n",
       "Gender                7\n",
       "Married               3\n",
       "Dependents           12\n",
       "Education             0\n",
       "Self_Employed        28\n",
       "ApplicantIncome       0\n",
       "CoapplicantIncome     0\n",
       "LoanAmount           17\n",
       "Loan_Amount_Term     12\n",
       "Credit_History       39\n",
       "Property_Area         0\n",
       "dtype: int64"
      ]
     },
     "execution_count": 22,
     "metadata": {},
     "output_type": "execute_result"
    }
   ],
   "source": [
    "#Check for missing values on data\n",
    "X_train.isnull().sum()\n"
   ]
  },
  {
   "cell_type": "code",
   "execution_count": 23,
   "metadata": {},
   "outputs": [],
   "source": [
    "from sklearn.preprocessing import OneHotEncoder, LabelEncoder\n",
    "from sklearn.base import BaseEstimator, TransformerMixin\n",
    "from sklearn.utils.validation import check_is_fitted\n",
    "\n",
    "class CustomPandasTransformer(BaseEstimator, TransformerMixin):\n",
    "    def _validate_input(self, X):\n",
    "        if not isinstance(X, pd.DataFrame):\n",
    "            raise TypeError(\"X must be a DataFrame, but got type=%s\" \n",
    "                            % type(X))\n",
    "        return X\n",
    "    \n",
    "    @staticmethod\n",
    "    def _validate_columns(X, cols):\n",
    "        scols = set(X.columns)  # set for O(1) lookup\n",
    "        if not all(c in scols for c in cols):\n",
    "            raise ValueError(\"all columns must be present in X\")\n",
    "\n",
    "class DummyEncoder(CustomPandasTransformer):\n",
    "    def __init__(self, columns, sep='_', drop_one_level=True, tmp_nan_rep='N/A'):\n",
    "        self.columns = columns\n",
    "        self.sep = sep\n",
    "        self.drop_one_level = drop_one_level\n",
    "        self.tmp_nan_rep = tmp_nan_rep\n",
    "        \n",
    "    def fit(self, X, y=None):\n",
    "        # validate the input\n",
    "        X = self._validate_input(X).copy()  # get a copy\n",
    "        \n",
    "        # parameter validation happens here:\n",
    "        tmp_nan = self.tmp_nan_rep\n",
    "        \n",
    "        # validate all the columns present\n",
    "        cols = self.columns\n",
    "        self._validate_columns(X, cols)\n",
    "                \n",
    "        # for each column, fit a label encoder\n",
    "        lab_encoders = {}\n",
    "        for col in cols:\n",
    "            vec = [tmp_nan if pd.isnull(v) \n",
    "                   else v for v in X[col].tolist()]\n",
    "            \n",
    "            # if the tmp_nan value is not present in vec, make sure it is\n",
    "            # so the transform won't break down\n",
    "            svec = list(set(vec))\n",
    "            if tmp_nan not in svec:\n",
    "                svec.append(tmp_nan)\n",
    "            \n",
    "            le = LabelEncoder()\n",
    "            lab_encoders[col] = le.fit(svec)\n",
    "            \n",
    "            # transform the column, re-assign\n",
    "            X[col] = le.transform(vec)\n",
    "            \n",
    "        # fit a single OHE on the transformed columns - but we need to ensure\n",
    "        # the N/A tmp_nan vals make it into the OHE or it will break down later.\n",
    "        # this is a hack - add a row of all transformed nan levels\n",
    "        ohe_set = X[cols]\n",
    "        ohe_nan_row = {c: lab_encoders[c].transform([tmp_nan])[0] for c in cols}\n",
    "        ohe_set = ohe_set.append(ohe_nan_row, ignore_index=True)\n",
    "        ohe = OneHotEncoder(sparse=False).fit(ohe_set)\n",
    "        \n",
    "        # assign fit params\n",
    "        self.ohe_ = ohe\n",
    "        self.le_ = lab_encoders\n",
    "        self.cols_ = cols\n",
    "        \n",
    "        return self\n",
    "    \n",
    "    def transform(self, X):\n",
    "        check_is_fitted(self, 'ohe_')\n",
    "        X = self._validate_input(X).copy()\n",
    "        \n",
    "        # fit params that we need\n",
    "        ohe = self.ohe_\n",
    "        lenc = self.le_\n",
    "        cols = self.cols_\n",
    "        tmp_nan = self.tmp_nan_rep\n",
    "        sep = self.sep\n",
    "        drop = self.drop_one_level\n",
    "        \n",
    "        # validate the cols and the new X\n",
    "        self._validate_columns(X, cols)\n",
    "        col_order = []\n",
    "        drops = []\n",
    "        \n",
    "        for col in cols:\n",
    "            # get the vec from X, transform its nans if present\n",
    "            vec = [tmp_nan if pd.isnull(v) \n",
    "                   else v for v in X[col].tolist()]\n",
    "            \n",
    "            le = lenc[col]\n",
    "            vec_trans = le.transform(vec)  # str -> int\n",
    "            X[col] = vec_trans\n",
    "            \n",
    "            # get the column names (levels) so we can predict the \n",
    "            # order of the output cols\n",
    "            classes = [\"%s%s%s\" % (col, sep, clz) for clz in le.classes_.tolist()]\n",
    "            col_order.extend(classes)\n",
    "            \n",
    "            # if we want to drop one, just drop the last\n",
    "            if drop:\n",
    "                drops.append(classes[-1])\n",
    "                \n",
    "        # now we can get the transformed OHE\n",
    "        ohe_trans = pd.DataFrame.from_records(data=ohe.transform(X[cols]), \n",
    "                                              columns=col_order)\n",
    "        \n",
    "        # set the index to be equal to X's for a smooth concat\n",
    "        ohe_trans.index = X.index\n",
    "        \n",
    "        # if we're dropping one level, do so now\n",
    "        if drops:\n",
    "            ohe_trans = ohe_trans.drop(drops, axis=1)\n",
    "        \n",
    "        # drop the original columns from X\n",
    "        X = X.drop(cols, axis=1)\n",
    "        \n",
    "        # concat the new columns\n",
    "        X = pd.concat([X, ohe_trans], axis=1)\n",
    "        return X"
   ]
  },
  {
   "cell_type": "code",
   "execution_count": 24,
   "metadata": {},
   "outputs": [],
   "source": [
    "# Custom Imputer to fill empty slots with most common category\n",
    "from sklearn.base import TransformerMixin\n",
    "\n",
    "class CustomCategoryImputer(BaseEstimator, TransformerMixin):\n",
    "    def __init__(self,cols=None):\n",
    "        self.cols = cols\n",
    "        \n",
    "    def transform(self, df):\n",
    "        X = df.copy()\n",
    "        for col in self.cols:\n",
    "            X[col].fillna(X[col].value_counts().index[0], inplace=True)\n",
    "        return X\n",
    "    \n",
    "    def fit(self, *_):\n",
    "        return self\n",
    "# Lets make an imputer that can apply a strategy to select columns by name\n",
    "\n",
    "class CustomQuantitativeImputer(BaseEstimator, TransformerMixin):\n",
    "    def __init__(self, cols=None, strategy='mean'):\n",
    "        self.cols = cols\n",
    "        self.strategy = strategy\n",
    "        \n",
    "    def transform(self, df):\n",
    "        X = df.copy()\n",
    "        impute = Imputer(strategy=self.strategy)\n",
    "        for col in self.cols:\n",
    "            X[col] = impute.fit_transform(X[[col]])\n",
    "        return X\n",
    "    \n",
    "    def fit(self, *_):\n",
    "        return self\n",
    "class CustomDummifier(BaseEstimator, TransformerMixin):\n",
    "    def __init__(self, cols=None):\n",
    "        self.cols = cols\n",
    "        \n",
    "    def transform(self, X):\n",
    "        return pd.get_dummies(X, columns=self.cols)\n",
    "    \n",
    "    def fit(self, *_):\n",
    "        return self\n",
    "    \n",
    "#ordering = ['dislike', 'somewhat like', 'like']  # 0 for dislike, 1 for somewhat like, and 2 for like\n",
    "\n",
    "#print X['ordinal_column']\n",
    "\n",
    "#print X['ordinal_column'].map(lambda x: ordering.index(x))\n",
    "class CustomEncoder(BaseEstimator, TransformerMixin):\n",
    "    def __init__(self, col, ordering=None):\n",
    "        self.ordering = ordering\n",
    "        self.col = col\n",
    "        \n",
    "    def transform(self, df):\n",
    "        X = df.copy()\n",
    "        X[self.col] = X[self.col].map(lambda x: self.ordering.index(x))\n",
    "        return X\n",
    "    \n",
    "    def fit(self, *_):\n",
    "        return self\n",
    "\n",
    "class CustomIdRemover(BaseEstimator, TransformerMixin):\n",
    "    def __init__(self, col, ):\n",
    "          self.col = col\n",
    "        \n",
    "    def transform(self, df):\n",
    "        X = df.copy()\n",
    "        X = X.drop(columns=self.col)\n",
    "        return X\n",
    "    \n",
    "    def fit(self, *_):\n",
    "        return self\n",
    "    \n",
    "class CustomCutter(BaseEstimator, TransformerMixin):\n",
    "    def __init__(self, col, bins, labels=False):\n",
    "        self.labels = labels\n",
    "        self.bins = bins\n",
    "        self.col = col\n",
    "        \n",
    "    def transform(self, df):\n",
    "        X = df.copy()\n",
    "        X[self.col] = pd.cut(X[self.col], bins=self.bins, labels=self.labels)\n",
    "        return X\n",
    "    \n",
    "    def fit(self, *_):\n",
    "        return self\n",
    "    \n",
    "from sklearn.base import BaseEstimator, TransformerMixin\n",
    "from sklearn.utils.validation import check_is_fitted\n",
    "\n",
    "class MeanCenter(BaseEstimator, TransformerMixin):\n",
    "    def __init__(self, col):\n",
    "        self.col = col\n",
    "        \n",
    "    def fit(self, X, y=None):\n",
    "        self.mean_ = X[self.col].mean()\n",
    "        return self\n",
    "    \n",
    "    def transform(self, X):\n",
    "        # ensure the transformer has been fit\n",
    "        check_is_fitted(self, 'mean_')\n",
    "        \n",
    "        # always copy the input frame - we don't want to\n",
    "        # impact the original frame in place\n",
    "        X = X.copy()\n",
    "        col = self.col\n",
    "        X[col] = X[col] - self.mean_\n",
    "        return X\n",
    "class CustomScaler(BaseEstimator, TransformerMixin):\n",
    "    def __init__(self, dframe,cols):\n",
    "         self.cols = cols\n",
    "         self.dframe =dframe\n",
    "        \n",
    "    def transform(self, dframe):\n",
    "        X = dframe.copy()\n",
    "        #X[self.cols] = X[self.cols].map(lambda x: StandardScaler().fit_transform(x))\n",
    "        X[self.cols] = StandardScaler().fit_transform(X[self.cols])\n",
    "        return X\n",
    "    \n",
    "    def fit(self, *_):\n",
    "        return self \n",
    "    \n",
    "class CustomPoly(BaseEstimator, TransformerMixin):\n",
    "    def __init__(self, cols):\n",
    "         self.cols = cols         \n",
    "        \n",
    "    def transform(self, df):\n",
    "        X = df.copy()        \n",
    "        poly = PolynomialFeatures(degree=2, include_bias=False, interaction_only=False)\n",
    "        X_poly = pd.DataFrame(poly.fit_transform(X[self.cols]),columns=poly.get_feature_names(),index=X.index)\n",
    "        X=pd.concat([X, X_poly], axis=1, join_axes=[X.index])\n",
    "        return X\n",
    "    \n",
    "    def fit(self, *_):\n",
    "        return self \n",
    "    \n",
    "class CustomCorrelationChooser(TransformerMixin, BaseEstimator):\n",
    "    def __init__(self, response, cols_to_keep=[], threshold=None):\n",
    "        # store the response series\n",
    "        self.response = response\n",
    "        # store the threshold that we wish to keep\n",
    "        self.threshold = threshold\n",
    "        # initialize a variable that will eventually\n",
    "        # hold the names of the features that we wish to keep\n",
    "        self.cols_to_keep = cols_to_keep\n",
    "        \n",
    "    def transform(self, X):\n",
    "        # the transform method simply selects the appropiate\n",
    "        # columns from the original dataset\n",
    "        return X[self.cols_to_keep]\n",
    "        \n",
    "    def fit(self, X, *_):\n",
    "        # create a new dataframe that holds both features and response\n",
    "        df = pd.concat([X, self.response], axis=1)\n",
    "        # store names of columns that meet correlation threshold\n",
    "        self.cols_to_keep = df.columns[df.corr()[df.columns[-1]].abs() > self.threshold]\n",
    "        # only keep columns in X, for example, will remove response variable\n",
    "        self.cols_to_keep = [c for c in self.cols_to_keep if c in X.columns]\n",
    "        return self"
   ]
  },
  {
   "cell_type": "code",
   "execution_count": 25,
   "metadata": {},
   "outputs": [
    {
     "name": "stdout",
     "output_type": "stream",
     "text": [
      "['Gender', 'Married', 'Education', 'Self_Employed', 'Property_Area', 'Dependents']\n"
     ]
    }
   ],
   "source": [
    "a=nominal_cols.tolist()\n",
    "a.remove('Credit_History')\n",
    "b=ordinal_cols.tolist()\n",
    "b.remove('Loan_ID')\n",
    "b=a+b\n",
    "print(b)"
   ]
  },
  {
   "cell_type": "code",
   "execution_count": 26,
   "metadata": {},
   "outputs": [],
   "source": [
    "cci = CustomCategoryImputer(cols=nominal_ordinal_cols.tolist())\n",
    "#cci = CustomCategoryImputer(cols=['Dependents'])\n",
    "#cci.fit_transform(X_train)\n",
    "\n",
    "cqi = CustomQuantitativeImputer(cols=ratio_interval_cols.tolist(), strategy='mean')\n",
    "\n",
    "nom_cols=nominal_cols.tolist()\n",
    "nom_cols.remove('Credit_History')\n",
    "ord_cols=ordinal_cols.tolist()\n",
    "ord_cols.remove('Loan_ID')\n",
    "dummy_cols=nom_cols+ord_cols\n",
    "cde = DummyEncoder(columns=dummy_cols)\n",
    "\n",
    "cid=CustomIdRemover(col=['Loan_ID'])\n",
    "\n",
    "cs=CustomScaler(X_train,cols=ratio_interval_cols.tolist())\n",
    "cp=CustomPoly(cols=ratio_interval_cols.tolist())\n",
    "\n",
    "ccc = CustomCorrelationChooser(response=y)\n",
    "\n",
    "imputer = Pipeline([('quant', cqi) ,\n",
    "                    #('cpoly',cp), \n",
    "                    ('scale',cs),('category', cci),('dummy', cde),('cid',cid)])\n",
    "#imputer = Pipeline([('quant', cqi), ('category', cci)])\n",
    "\n",
    "# function to build the pipeline\n",
    "def build_pipe(est, est_name='clf'):\n",
    "    return Pipeline([\n",
    "            ('imputer', imputer),\n",
    "            (est_name, est)\n",
    "        ])\n",
    "\n",
    "X_transformed=imputer.fit_transform(X_train)  # ready for action\n",
    "#y_new = pd.DataFrame(LabelEncoder().fit_transform(y_train),columns=y_train.columnsindex=y_train.index)\n",
    "Y_transformed=pd.DataFrame(LabelEncoder().fit_transform(y_train),columns=[target_col],index=y_train.index)\n",
    "#X_transformed=pd.concat([X_transformed,Y_transformed],axis=1)\n",
    "#im.head()\n",
    "#X_transformed.corr()[target_col].abs() > .2\n",
    "\n",
    "\n",
    "\n",
    "\n",
    "#sns.heatmap(im.corr())\n",
    "#im.corr()['Loan_Status']\n",
    "\n",
    "#im.isnull().sum()\n",
    "#im['Married'].unique()\n",
    "#cd = CustomDummifier(cols=['boolean', 'city'])\n",
    "\n",
    "#cd.fit_transform(X)\n",
    "#cc = CustomCutter(col='quantitative_column', bins=3)\n",
    "\n",
    "#cc.fit_transform(X)\n",
    "\n",
    "#pipe = Pipeline([(\"imputer\", imputer), ('dummify', cd), ('encode', ce), ('cut', cc)])\n",
    "# will use our initial imputer\n",
    "# will dummify variables first\n",
    "# then encode the ordinal column\n",
    "# then bucket (bin) the quantitative column"
   ]
  },
  {
   "cell_type": "code",
   "execution_count": 82,
   "metadata": {},
   "outputs": [],
   "source": [
    "from sklearn.model_selection import KFold\n",
    "\n",
    "# define our cross validator - remember to shuffle!\n",
    "cv = KFold(n_splits=5, shuffle=True, random_state=seed)"
   ]
  },
  {
   "cell_type": "code",
   "execution_count": 83,
   "metadata": {},
   "outputs": [
    {
     "name": "stdout",
     "output_type": "stream",
     "text": [
      "Num splits: 5\n",
      "Fold 0 n_samples: 368\n",
      "Fold 1 n_samples: 368\n",
      "Fold 2 n_samples: 368\n",
      "Fold 3 n_samples: 368\n",
      "Fold 4 n_samples: 368\n"
     ]
    }
   ],
   "source": [
    "cv_parts = list(cv.split(X_train))\n",
    "print(\"Num splits: %i\" % len(cv_parts))\n",
    "for i, part in enumerate(cv_parts):\n",
    "    print(\"Fold %i n_samples: %i\" % (i, part[0].shape[0]))"
   ]
  },
  {
   "cell_type": "code",
   "execution_count": 84,
   "metadata": {},
   "outputs": [
    {
     "data": {
      "text/plain": [
       "0.8217391304347826"
      ]
     },
     "execution_count": 84,
     "metadata": {},
     "output_type": "execute_result"
    }
   ],
   "source": [
    "from sklearn.model_selection import cross_val_score\n",
    "from sklearn.linear_model import LogisticRegression\n",
    "\n",
    "# Fitting a logistic regression with CV\n",
    "(cross_val_score(build_pipe(LogisticRegression(random_state=seed)), \n",
    "                X=X_train, y=y_train, cv=cv, scoring='accuracy')).mean()"
   ]
  },
  {
   "cell_type": "code",
   "execution_count": 80,
   "metadata": {},
   "outputs": [
    {
     "data": {
      "text/plain": [
       "0.8173913043478261"
      ]
     },
     "execution_count": 80,
     "metadata": {},
     "output_type": "execute_result"
    }
   ],
   "source": [
    "from sklearn.svm import SVC\n",
    "\n",
    "# Fitting an SVM\n",
    "(cross_val_score(build_pipe(SVC(random_state=seed)), \n",
    "                X=X_train, y=y_train, cv=cv, scoring='accuracy')).mean()"
   ]
  },
  {
   "cell_type": "code",
   "execution_count": 81,
   "metadata": {},
   "outputs": [
    {
     "data": {
      "text/plain": [
       "0.7543478260869566"
      ]
     },
     "execution_count": 81,
     "metadata": {},
     "output_type": "execute_result"
    }
   ],
   "source": [
    "from sklearn.ensemble import RandomForestClassifier\n",
    "\n",
    "# Fit a random forest\n",
    "(cross_val_score(build_pipe(RandomForestClassifier(random_state=seed)), \n",
    "                X=X_train, y=y_train, cv=cv, scoring='accuracy')).mean()"
   ]
  },
  {
   "cell_type": "code",
   "execution_count": 32,
   "metadata": {},
   "outputs": [],
   "source": [
    "from sklearn.model_selection import RandomizedSearchCV\n",
    "from scipy.stats import uniform, randint\n",
    "\n",
    "# the pipe we'll use\n",
    "rf_pipe = Pipeline([\n",
    "        ('imputer', imputer),\n",
    "        ('clf', RandomForestClassifier(random_state=seed))\n",
    "    ])\n",
    "\n",
    "# define the hyper-params\n",
    "hyper_params = {\n",
    "    'clf__n_estimators': randint(50, 250),\n",
    "    'clf__min_samples_leaf': [1, 5, 10, 25, 50],\n",
    "    'clf__max_depth': randint(10, 25)\n",
    "}\n",
    "\n",
    "# define the search\n",
    "rf_search = RandomizedSearchCV(rf_pipe, param_distributions=hyper_params,\n",
    "                               random_state=seed, cv=cv, n_iter=5,\n",
    "                               n_jobs=1, verbose=1, scoring='accuracy',\n",
    "                               return_train_score=False)\n",
    "\n",
    "#rf_search.fit(X_train, y_train)"
   ]
  },
  {
   "cell_type": "code",
   "execution_count": 85,
   "metadata": {},
   "outputs": [],
   "source": [
    "from sklearn.model_selection import GridSearchCV\n",
    "from sklearn.model_selection import RandomizedSearchCV\n",
    "from scipy.stats import uniform, randint\n",
    "from sklearn.metrics import accuracy_score\n",
    "def get_best_model_and_accuracy(pipe,cv, params, X, y):\n",
    "    #grid = GridSearchCV(pipe,           # the model to grid search\n",
    "    #                    params,cv=cv,          # the parameter set to try \n",
    "     #                   error_score=0.)  # if a parameter set raises an error, continue and set the performance as a big, fat 0\n",
    "    grid=RandomizedSearchCV(pipe, param_distributions=params,\n",
    "                               random_state=seed, cv=cv, n_iter=8,\n",
    "                               n_jobs=1, verbose=1, scoring='accuracy',\n",
    "                               return_train_score=False,error_score=0.)\n",
    "    \n",
    "    grid.fit(X, y)           # fit the model and parameters\n",
    "    #grid_preds = grid.predict(X_test)\n",
    "    \n",
    "    # our classical metric for performance\n",
    "    print (\"Best Accuracy: {}\".format(grid.best_score_))\n",
    "    # the best parameters that caused the best accuracy\n",
    "    print (\"Best Parameters: {}\".format(grid.best_params_))\n",
    "    # the average time it took a model to fit to the data (in seconds)\n",
    "    print (\"Average Time to Fit (s): {}\".format(round(grid.cv_results_['mean_fit_time'].mean(), 3)))\n",
    "    # the average time it took a model to predict out of sample data (in seconds)\n",
    "    # this metric gives us insight into how this model will perform in real-time analysis\n",
    "    print (\"Average Time to Score (s): {}\".format(round(grid.cv_results_['mean_score_time'].mean(), 3)))\n",
    "    \n",
    "    #print(\"Model test score: %.5f\" % accuracy_score(y_test, grid_preds))\n",
    "    \n",
    "\n",
    " \n",
    "\n",
    "\n",
    "\n",
    "   "
   ]
  },
  {
   "cell_type": "code",
   "execution_count": 34,
   "metadata": {},
   "outputs": [],
   "source": [
    "# Import four machine learning models\n",
    "from sklearn.linear_model import LogisticRegression\n",
    "from sklearn.neighbors import KNeighborsClassifier\n",
    "from sklearn.tree import DecisionTreeClassifier\n",
    "from sklearn.ensemble import RandomForestClassifier\n",
    "\n",
    "\n",
    "# Set up some parameters for our grid search\n",
    "# We will start with four different machine learning models\n",
    "# logistic regression, KNN, Decision Tree, and Random Forest\n",
    "lr_params = {'clf__C':[1e-1, 1e0, 1e1, 1e2], 'clf__penalty':['l1', 'l2']}\n",
    "svc_params = {'clf__C': uniform(0.5, 0.125),'clf__kernel': ['rbf', 'linear', 'poly', 'sigmoid']}\n",
    "tree_params = {'clf__max_depth': [None, 1, 3, 5, 7, 9, 11, 13, 15, 17, 19, 21]}\n",
    "forest_params = {'clf__n_estimators': [10, 50, 100], 'clf__max_depth': [None, 1, 3, 5, 7]}\n",
    "\n",
    "\n",
    "# instantiate the four machine learning models\n",
    "lr = LogisticRegression(random_state=seed)\n",
    "#knn = KNeighborsClassifier()\n",
    "#d_tree = DecisionTreeClassifier()\n",
    "#forest = RandomForestClassifier()"
   ]
  },
  {
   "cell_type": "code",
   "execution_count": 35,
   "metadata": {},
   "outputs": [
    {
     "name": "stdout",
     "output_type": "stream",
     "text": [
      "{'clf__C': [0.1, 1.0, 10.0, 100.0], 'clf__penalty': ['l1', 'l2'], 'correlation_select__threshold': [0, 0.01, 0.02, 0.03, 0.04, 0.05, 0.06, 0.07, 0.08, 0.09, 0.1, 0.2, 0.3]}\n",
      "Fitting 5 folds for each of 8 candidates, totalling 40 fits\n",
      "Best Accuracy: 0.8195652173913044\n",
      "Best Parameters: {'correlation_select__threshold': 0.01, 'clf__penalty': 'l1', 'clf__C': 0.1}\n",
      "Average Time to Fit (s): 0.003\n",
      "Average Time to Score (s): 0.001\n"
     ]
    },
    {
     "name": "stderr",
     "output_type": "stream",
     "text": [
      "c:\\users\\dhiman\\anaconda3\\envs\\tensorflow\\lib\\site-packages\\sklearn\\utils\\validation.py:578: DataConversionWarning: A column-vector y was passed when a 1d array was expected. Please change the shape of y to (n_samples, ), for example using ravel().\n",
      "  y = column_or_1d(y, warn=True)\n",
      "c:\\users\\dhiman\\anaconda3\\envs\\tensorflow\\lib\\site-packages\\sklearn\\utils\\validation.py:578: DataConversionWarning: A column-vector y was passed when a 1d array was expected. Please change the shape of y to (n_samples, ), for example using ravel().\n",
      "  y = column_or_1d(y, warn=True)\n",
      "c:\\users\\dhiman\\anaconda3\\envs\\tensorflow\\lib\\site-packages\\sklearn\\utils\\validation.py:578: DataConversionWarning: A column-vector y was passed when a 1d array was expected. Please change the shape of y to (n_samples, ), for example using ravel().\n",
      "  y = column_or_1d(y, warn=True)\n",
      "c:\\users\\dhiman\\anaconda3\\envs\\tensorflow\\lib\\site-packages\\sklearn\\utils\\validation.py:578: DataConversionWarning: A column-vector y was passed when a 1d array was expected. Please change the shape of y to (n_samples, ), for example using ravel().\n",
      "  y = column_or_1d(y, warn=True)\n",
      "c:\\users\\dhiman\\anaconda3\\envs\\tensorflow\\lib\\site-packages\\sklearn\\utils\\validation.py:578: DataConversionWarning: A column-vector y was passed when a 1d array was expected. Please change the shape of y to (n_samples, ), for example using ravel().\n",
      "  y = column_or_1d(y, warn=True)\n",
      "c:\\users\\dhiman\\anaconda3\\envs\\tensorflow\\lib\\site-packages\\sklearn\\utils\\validation.py:578: DataConversionWarning: A column-vector y was passed when a 1d array was expected. Please change the shape of y to (n_samples, ), for example using ravel().\n",
      "  y = column_or_1d(y, warn=True)\n",
      "c:\\users\\dhiman\\anaconda3\\envs\\tensorflow\\lib\\site-packages\\sklearn\\utils\\validation.py:578: DataConversionWarning: A column-vector y was passed when a 1d array was expected. Please change the shape of y to (n_samples, ), for example using ravel().\n",
      "  y = column_or_1d(y, warn=True)\n",
      "c:\\users\\dhiman\\anaconda3\\envs\\tensorflow\\lib\\site-packages\\sklearn\\utils\\validation.py:578: DataConversionWarning: A column-vector y was passed when a 1d array was expected. Please change the shape of y to (n_samples, ), for example using ravel().\n",
      "  y = column_or_1d(y, warn=True)\n",
      "c:\\users\\dhiman\\anaconda3\\envs\\tensorflow\\lib\\site-packages\\sklearn\\utils\\validation.py:578: DataConversionWarning: A column-vector y was passed when a 1d array was expected. Please change the shape of y to (n_samples, ), for example using ravel().\n",
      "  y = column_or_1d(y, warn=True)\n",
      "c:\\users\\dhiman\\anaconda3\\envs\\tensorflow\\lib\\site-packages\\sklearn\\utils\\validation.py:578: DataConversionWarning: A column-vector y was passed when a 1d array was expected. Please change the shape of y to (n_samples, ), for example using ravel().\n",
      "  y = column_or_1d(y, warn=True)\n",
      "c:\\users\\dhiman\\anaconda3\\envs\\tensorflow\\lib\\site-packages\\sklearn\\utils\\validation.py:578: DataConversionWarning: A column-vector y was passed when a 1d array was expected. Please change the shape of y to (n_samples, ), for example using ravel().\n",
      "  y = column_or_1d(y, warn=True)\n",
      "c:\\users\\dhiman\\anaconda3\\envs\\tensorflow\\lib\\site-packages\\sklearn\\utils\\validation.py:578: DataConversionWarning: A column-vector y was passed when a 1d array was expected. Please change the shape of y to (n_samples, ), for example using ravel().\n",
      "  y = column_or_1d(y, warn=True)\n",
      "c:\\users\\dhiman\\anaconda3\\envs\\tensorflow\\lib\\site-packages\\sklearn\\utils\\validation.py:578: DataConversionWarning: A column-vector y was passed when a 1d array was expected. Please change the shape of y to (n_samples, ), for example using ravel().\n",
      "  y = column_or_1d(y, warn=True)\n",
      "c:\\users\\dhiman\\anaconda3\\envs\\tensorflow\\lib\\site-packages\\sklearn\\utils\\validation.py:578: DataConversionWarning: A column-vector y was passed when a 1d array was expected. Please change the shape of y to (n_samples, ), for example using ravel().\n",
      "  y = column_or_1d(y, warn=True)\n",
      "c:\\users\\dhiman\\anaconda3\\envs\\tensorflow\\lib\\site-packages\\sklearn\\utils\\validation.py:578: DataConversionWarning: A column-vector y was passed when a 1d array was expected. Please change the shape of y to (n_samples, ), for example using ravel().\n",
      "  y = column_or_1d(y, warn=True)\n",
      "c:\\users\\dhiman\\anaconda3\\envs\\tensorflow\\lib\\site-packages\\sklearn\\utils\\validation.py:578: DataConversionWarning: A column-vector y was passed when a 1d array was expected. Please change the shape of y to (n_samples, ), for example using ravel().\n",
      "  y = column_or_1d(y, warn=True)\n",
      "c:\\users\\dhiman\\anaconda3\\envs\\tensorflow\\lib\\site-packages\\sklearn\\utils\\validation.py:578: DataConversionWarning: A column-vector y was passed when a 1d array was expected. Please change the shape of y to (n_samples, ), for example using ravel().\n",
      "  y = column_or_1d(y, warn=True)\n",
      "c:\\users\\dhiman\\anaconda3\\envs\\tensorflow\\lib\\site-packages\\sklearn\\utils\\validation.py:578: DataConversionWarning: A column-vector y was passed when a 1d array was expected. Please change the shape of y to (n_samples, ), for example using ravel().\n",
      "  y = column_or_1d(y, warn=True)\n",
      "c:\\users\\dhiman\\anaconda3\\envs\\tensorflow\\lib\\site-packages\\sklearn\\utils\\validation.py:578: DataConversionWarning: A column-vector y was passed when a 1d array was expected. Please change the shape of y to (n_samples, ), for example using ravel().\n",
      "  y = column_or_1d(y, warn=True)\n",
      "c:\\users\\dhiman\\anaconda3\\envs\\tensorflow\\lib\\site-packages\\sklearn\\utils\\validation.py:578: DataConversionWarning: A column-vector y was passed when a 1d array was expected. Please change the shape of y to (n_samples, ), for example using ravel().\n",
      "  y = column_or_1d(y, warn=True)\n",
      "c:\\users\\dhiman\\anaconda3\\envs\\tensorflow\\lib\\site-packages\\sklearn\\utils\\validation.py:578: DataConversionWarning: A column-vector y was passed when a 1d array was expected. Please change the shape of y to (n_samples, ), for example using ravel().\n",
      "  y = column_or_1d(y, warn=True)\n",
      "c:\\users\\dhiman\\anaconda3\\envs\\tensorflow\\lib\\site-packages\\sklearn\\utils\\validation.py:578: DataConversionWarning: A column-vector y was passed when a 1d array was expected. Please change the shape of y to (n_samples, ), for example using ravel().\n",
      "  y = column_or_1d(y, warn=True)\n",
      "c:\\users\\dhiman\\anaconda3\\envs\\tensorflow\\lib\\site-packages\\sklearn\\utils\\validation.py:578: DataConversionWarning: A column-vector y was passed when a 1d array was expected. Please change the shape of y to (n_samples, ), for example using ravel().\n",
      "  y = column_or_1d(y, warn=True)\n",
      "c:\\users\\dhiman\\anaconda3\\envs\\tensorflow\\lib\\site-packages\\sklearn\\utils\\validation.py:578: DataConversionWarning: A column-vector y was passed when a 1d array was expected. Please change the shape of y to (n_samples, ), for example using ravel().\n",
      "  y = column_or_1d(y, warn=True)\n",
      "c:\\users\\dhiman\\anaconda3\\envs\\tensorflow\\lib\\site-packages\\sklearn\\utils\\validation.py:578: DataConversionWarning: A column-vector y was passed when a 1d array was expected. Please change the shape of y to (n_samples, ), for example using ravel().\n",
      "  y = column_or_1d(y, warn=True)\n",
      "c:\\users\\dhiman\\anaconda3\\envs\\tensorflow\\lib\\site-packages\\sklearn\\utils\\validation.py:578: DataConversionWarning: A column-vector y was passed when a 1d array was expected. Please change the shape of y to (n_samples, ), for example using ravel().\n",
      "  y = column_or_1d(y, warn=True)\n",
      "c:\\users\\dhiman\\anaconda3\\envs\\tensorflow\\lib\\site-packages\\sklearn\\utils\\validation.py:578: DataConversionWarning: A column-vector y was passed when a 1d array was expected. Please change the shape of y to (n_samples, ), for example using ravel().\n",
      "  y = column_or_1d(y, warn=True)\n",
      "c:\\users\\dhiman\\anaconda3\\envs\\tensorflow\\lib\\site-packages\\sklearn\\utils\\validation.py:578: DataConversionWarning: A column-vector y was passed when a 1d array was expected. Please change the shape of y to (n_samples, ), for example using ravel().\n",
      "  y = column_or_1d(y, warn=True)\n",
      "c:\\users\\dhiman\\anaconda3\\envs\\tensorflow\\lib\\site-packages\\sklearn\\utils\\validation.py:578: DataConversionWarning: A column-vector y was passed when a 1d array was expected. Please change the shape of y to (n_samples, ), for example using ravel().\n",
      "  y = column_or_1d(y, warn=True)\n",
      "c:\\users\\dhiman\\anaconda3\\envs\\tensorflow\\lib\\site-packages\\sklearn\\utils\\validation.py:578: DataConversionWarning: A column-vector y was passed when a 1d array was expected. Please change the shape of y to (n_samples, ), for example using ravel().\n",
      "  y = column_or_1d(y, warn=True)\n",
      "c:\\users\\dhiman\\anaconda3\\envs\\tensorflow\\lib\\site-packages\\sklearn\\utils\\validation.py:578: DataConversionWarning: A column-vector y was passed when a 1d array was expected. Please change the shape of y to (n_samples, ), for example using ravel().\n",
      "  y = column_or_1d(y, warn=True)\n",
      "c:\\users\\dhiman\\anaconda3\\envs\\tensorflow\\lib\\site-packages\\sklearn\\utils\\validation.py:578: DataConversionWarning: A column-vector y was passed when a 1d array was expected. Please change the shape of y to (n_samples, ), for example using ravel().\n",
      "  y = column_or_1d(y, warn=True)\n",
      "c:\\users\\dhiman\\anaconda3\\envs\\tensorflow\\lib\\site-packages\\sklearn\\utils\\validation.py:578: DataConversionWarning: A column-vector y was passed when a 1d array was expected. Please change the shape of y to (n_samples, ), for example using ravel().\n",
      "  y = column_or_1d(y, warn=True)\n",
      "c:\\users\\dhiman\\anaconda3\\envs\\tensorflow\\lib\\site-packages\\sklearn\\utils\\validation.py:578: DataConversionWarning: A column-vector y was passed when a 1d array was expected. Please change the shape of y to (n_samples, ), for example using ravel().\n",
      "  y = column_or_1d(y, warn=True)\n",
      "c:\\users\\dhiman\\anaconda3\\envs\\tensorflow\\lib\\site-packages\\sklearn\\utils\\validation.py:578: DataConversionWarning: A column-vector y was passed when a 1d array was expected. Please change the shape of y to (n_samples, ), for example using ravel().\n",
      "  y = column_or_1d(y, warn=True)\n",
      "c:\\users\\dhiman\\anaconda3\\envs\\tensorflow\\lib\\site-packages\\sklearn\\utils\\validation.py:578: DataConversionWarning: A column-vector y was passed when a 1d array was expected. Please change the shape of y to (n_samples, ), for example using ravel().\n",
      "  y = column_or_1d(y, warn=True)\n",
      "c:\\users\\dhiman\\anaconda3\\envs\\tensorflow\\lib\\site-packages\\sklearn\\utils\\validation.py:578: DataConversionWarning: A column-vector y was passed when a 1d array was expected. Please change the shape of y to (n_samples, ), for example using ravel().\n",
      "  y = column_or_1d(y, warn=True)\n",
      "c:\\users\\dhiman\\anaconda3\\envs\\tensorflow\\lib\\site-packages\\sklearn\\utils\\validation.py:578: DataConversionWarning: A column-vector y was passed when a 1d array was expected. Please change the shape of y to (n_samples, ), for example using ravel().\n",
      "  y = column_or_1d(y, warn=True)\n",
      "c:\\users\\dhiman\\anaconda3\\envs\\tensorflow\\lib\\site-packages\\sklearn\\utils\\validation.py:578: DataConversionWarning: A column-vector y was passed when a 1d array was expected. Please change the shape of y to (n_samples, ), for example using ravel().\n",
      "  y = column_or_1d(y, warn=True)\n",
      "c:\\users\\dhiman\\anaconda3\\envs\\tensorflow\\lib\\site-packages\\sklearn\\utils\\validation.py:578: DataConversionWarning: A column-vector y was passed when a 1d array was expected. Please change the shape of y to (n_samples, ), for example using ravel().\n",
      "  y = column_or_1d(y, warn=True)\n",
      "[Parallel(n_jobs=1)]: Done  40 out of  40 | elapsed:    0.1s finished\n",
      "c:\\users\\dhiman\\anaconda3\\envs\\tensorflow\\lib\\site-packages\\sklearn\\utils\\validation.py:578: DataConversionWarning: A column-vector y was passed when a 1d array was expected. Please change the shape of y to (n_samples, ), for example using ravel().\n",
      "  y = column_or_1d(y, warn=True)\n"
     ]
    }
   ],
   "source": [
    "import copy\n",
    "# instantiate our feature selector with the response variable set\n",
    "ccc = CustomCorrelationChooser(response=Y_transformed)\n",
    "\n",
    "# make our new pipeline, including the selector\n",
    "ccc_pipe = Pipeline([('correlation_select', ccc), \n",
    "                     ('clf', lr)])\n",
    "\n",
    "# make a copy of the decisino tree pipeline parameters\n",
    "ccc_pipe_params = copy.deepcopy(lr_params)\n",
    "\n",
    "# update that dictionary with feature selector specific parameters\n",
    "ccc_pipe_params.update({\n",
    "               'correlation_select__threshold':[0,0.01,0.02,0.03,0.04,0.05,0.06,0.07,0.08,0.09, .1, .2, .3]})\n",
    "\n",
    "print(ccc_pipe_params)\n",
    "\n",
    "# better than original (by a little, and a bit faster on \n",
    "# average overall\n",
    "get_best_model_and_accuracy(ccc_pipe, cv,ccc_pipe_params, X_transformed, Y_transformed)  "
   ]
  },
  {
   "cell_type": "code",
   "execution_count": 36,
   "metadata": {},
   "outputs": [
    {
     "name": "stdout",
     "output_type": "stream",
     "text": [
      "{'clf__C': [0.1, 1.0, 10.0, 100.0], 'clf__penalty': ['l1', 'l2'], 'variance__threshold': [0.05, 0.1, 0.15, 0.2, 0.25, 0.3, 0.4, 0.5]}\n",
      "Fitting 5 folds for each of 8 candidates, totalling 40 fits\n"
     ]
    },
    {
     "name": "stderr",
     "output_type": "stream",
     "text": [
      "c:\\users\\dhiman\\anaconda3\\envs\\tensorflow\\lib\\site-packages\\sklearn\\utils\\validation.py:578: DataConversionWarning: A column-vector y was passed when a 1d array was expected. Please change the shape of y to (n_samples, ), for example using ravel().\n",
      "  y = column_or_1d(y, warn=True)\n"
     ]
    },
    {
     "name": "stdout",
     "output_type": "stream",
     "text": [
      "Best Accuracy: 0.8195652173913044\n",
      "Best Parameters: {'variance__threshold': 0.1, 'clf__penalty': 'l2', 'clf__C': 10.0}\n",
      "Average Time to Fit (s): 0.001\n",
      "Average Time to Score (s): 0.0\n"
     ]
    },
    {
     "name": "stderr",
     "output_type": "stream",
     "text": [
      "c:\\users\\dhiman\\anaconda3\\envs\\tensorflow\\lib\\site-packages\\sklearn\\utils\\validation.py:578: DataConversionWarning: A column-vector y was passed when a 1d array was expected. Please change the shape of y to (n_samples, ), for example using ravel().\n",
      "  y = column_or_1d(y, warn=True)\n",
      "c:\\users\\dhiman\\anaconda3\\envs\\tensorflow\\lib\\site-packages\\sklearn\\utils\\validation.py:578: DataConversionWarning: A column-vector y was passed when a 1d array was expected. Please change the shape of y to (n_samples, ), for example using ravel().\n",
      "  y = column_or_1d(y, warn=True)\n",
      "c:\\users\\dhiman\\anaconda3\\envs\\tensorflow\\lib\\site-packages\\sklearn\\utils\\validation.py:578: DataConversionWarning: A column-vector y was passed when a 1d array was expected. Please change the shape of y to (n_samples, ), for example using ravel().\n",
      "  y = column_or_1d(y, warn=True)\n",
      "c:\\users\\dhiman\\anaconda3\\envs\\tensorflow\\lib\\site-packages\\sklearn\\utils\\validation.py:578: DataConversionWarning: A column-vector y was passed when a 1d array was expected. Please change the shape of y to (n_samples, ), for example using ravel().\n",
      "  y = column_or_1d(y, warn=True)\n",
      "c:\\users\\dhiman\\anaconda3\\envs\\tensorflow\\lib\\site-packages\\sklearn\\utils\\validation.py:578: DataConversionWarning: A column-vector y was passed when a 1d array was expected. Please change the shape of y to (n_samples, ), for example using ravel().\n",
      "  y = column_or_1d(y, warn=True)\n",
      "c:\\users\\dhiman\\anaconda3\\envs\\tensorflow\\lib\\site-packages\\sklearn\\utils\\validation.py:578: DataConversionWarning: A column-vector y was passed when a 1d array was expected. Please change the shape of y to (n_samples, ), for example using ravel().\n",
      "  y = column_or_1d(y, warn=True)\n",
      "c:\\users\\dhiman\\anaconda3\\envs\\tensorflow\\lib\\site-packages\\sklearn\\utils\\validation.py:578: DataConversionWarning: A column-vector y was passed when a 1d array was expected. Please change the shape of y to (n_samples, ), for example using ravel().\n",
      "  y = column_or_1d(y, warn=True)\n",
      "c:\\users\\dhiman\\anaconda3\\envs\\tensorflow\\lib\\site-packages\\sklearn\\utils\\validation.py:578: DataConversionWarning: A column-vector y was passed when a 1d array was expected. Please change the shape of y to (n_samples, ), for example using ravel().\n",
      "  y = column_or_1d(y, warn=True)\n",
      "c:\\users\\dhiman\\anaconda3\\envs\\tensorflow\\lib\\site-packages\\sklearn\\utils\\validation.py:578: DataConversionWarning: A column-vector y was passed when a 1d array was expected. Please change the shape of y to (n_samples, ), for example using ravel().\n",
      "  y = column_or_1d(y, warn=True)\n",
      "c:\\users\\dhiman\\anaconda3\\envs\\tensorflow\\lib\\site-packages\\sklearn\\utils\\validation.py:578: DataConversionWarning: A column-vector y was passed when a 1d array was expected. Please change the shape of y to (n_samples, ), for example using ravel().\n",
      "  y = column_or_1d(y, warn=True)\n",
      "c:\\users\\dhiman\\anaconda3\\envs\\tensorflow\\lib\\site-packages\\sklearn\\utils\\validation.py:578: DataConversionWarning: A column-vector y was passed when a 1d array was expected. Please change the shape of y to (n_samples, ), for example using ravel().\n",
      "  y = column_or_1d(y, warn=True)\n",
      "c:\\users\\dhiman\\anaconda3\\envs\\tensorflow\\lib\\site-packages\\sklearn\\utils\\validation.py:578: DataConversionWarning: A column-vector y was passed when a 1d array was expected. Please change the shape of y to (n_samples, ), for example using ravel().\n",
      "  y = column_or_1d(y, warn=True)\n",
      "c:\\users\\dhiman\\anaconda3\\envs\\tensorflow\\lib\\site-packages\\sklearn\\utils\\validation.py:578: DataConversionWarning: A column-vector y was passed when a 1d array was expected. Please change the shape of y to (n_samples, ), for example using ravel().\n",
      "  y = column_or_1d(y, warn=True)\n",
      "c:\\users\\dhiman\\anaconda3\\envs\\tensorflow\\lib\\site-packages\\sklearn\\utils\\validation.py:578: DataConversionWarning: A column-vector y was passed when a 1d array was expected. Please change the shape of y to (n_samples, ), for example using ravel().\n",
      "  y = column_or_1d(y, warn=True)\n",
      "c:\\users\\dhiman\\anaconda3\\envs\\tensorflow\\lib\\site-packages\\sklearn\\utils\\validation.py:578: DataConversionWarning: A column-vector y was passed when a 1d array was expected. Please change the shape of y to (n_samples, ), for example using ravel().\n",
      "  y = column_or_1d(y, warn=True)\n",
      "c:\\users\\dhiman\\anaconda3\\envs\\tensorflow\\lib\\site-packages\\sklearn\\utils\\validation.py:578: DataConversionWarning: A column-vector y was passed when a 1d array was expected. Please change the shape of y to (n_samples, ), for example using ravel().\n",
      "  y = column_or_1d(y, warn=True)\n",
      "c:\\users\\dhiman\\anaconda3\\envs\\tensorflow\\lib\\site-packages\\sklearn\\utils\\validation.py:578: DataConversionWarning: A column-vector y was passed when a 1d array was expected. Please change the shape of y to (n_samples, ), for example using ravel().\n",
      "  y = column_or_1d(y, warn=True)\n",
      "c:\\users\\dhiman\\anaconda3\\envs\\tensorflow\\lib\\site-packages\\sklearn\\utils\\validation.py:578: DataConversionWarning: A column-vector y was passed when a 1d array was expected. Please change the shape of y to (n_samples, ), for example using ravel().\n",
      "  y = column_or_1d(y, warn=True)\n",
      "c:\\users\\dhiman\\anaconda3\\envs\\tensorflow\\lib\\site-packages\\sklearn\\utils\\validation.py:578: DataConversionWarning: A column-vector y was passed when a 1d array was expected. Please change the shape of y to (n_samples, ), for example using ravel().\n",
      "  y = column_or_1d(y, warn=True)\n",
      "c:\\users\\dhiman\\anaconda3\\envs\\tensorflow\\lib\\site-packages\\sklearn\\utils\\validation.py:578: DataConversionWarning: A column-vector y was passed when a 1d array was expected. Please change the shape of y to (n_samples, ), for example using ravel().\n",
      "  y = column_or_1d(y, warn=True)\n",
      "c:\\users\\dhiman\\anaconda3\\envs\\tensorflow\\lib\\site-packages\\sklearn\\utils\\validation.py:578: DataConversionWarning: A column-vector y was passed when a 1d array was expected. Please change the shape of y to (n_samples, ), for example using ravel().\n",
      "  y = column_or_1d(y, warn=True)\n",
      "c:\\users\\dhiman\\anaconda3\\envs\\tensorflow\\lib\\site-packages\\sklearn\\utils\\validation.py:578: DataConversionWarning: A column-vector y was passed when a 1d array was expected. Please change the shape of y to (n_samples, ), for example using ravel().\n",
      "  y = column_or_1d(y, warn=True)\n",
      "c:\\users\\dhiman\\anaconda3\\envs\\tensorflow\\lib\\site-packages\\sklearn\\utils\\validation.py:578: DataConversionWarning: A column-vector y was passed when a 1d array was expected. Please change the shape of y to (n_samples, ), for example using ravel().\n",
      "  y = column_or_1d(y, warn=True)\n",
      "c:\\users\\dhiman\\anaconda3\\envs\\tensorflow\\lib\\site-packages\\sklearn\\utils\\validation.py:578: DataConversionWarning: A column-vector y was passed when a 1d array was expected. Please change the shape of y to (n_samples, ), for example using ravel().\n",
      "  y = column_or_1d(y, warn=True)\n",
      "c:\\users\\dhiman\\anaconda3\\envs\\tensorflow\\lib\\site-packages\\sklearn\\utils\\validation.py:578: DataConversionWarning: A column-vector y was passed when a 1d array was expected. Please change the shape of y to (n_samples, ), for example using ravel().\n",
      "  y = column_or_1d(y, warn=True)\n",
      "c:\\users\\dhiman\\anaconda3\\envs\\tensorflow\\lib\\site-packages\\sklearn\\utils\\validation.py:578: DataConversionWarning: A column-vector y was passed when a 1d array was expected. Please change the shape of y to (n_samples, ), for example using ravel().\n",
      "  y = column_or_1d(y, warn=True)\n",
      "c:\\users\\dhiman\\anaconda3\\envs\\tensorflow\\lib\\site-packages\\sklearn\\utils\\validation.py:578: DataConversionWarning: A column-vector y was passed when a 1d array was expected. Please change the shape of y to (n_samples, ), for example using ravel().\n",
      "  y = column_or_1d(y, warn=True)\n",
      "c:\\users\\dhiman\\anaconda3\\envs\\tensorflow\\lib\\site-packages\\sklearn\\utils\\validation.py:578: DataConversionWarning: A column-vector y was passed when a 1d array was expected. Please change the shape of y to (n_samples, ), for example using ravel().\n",
      "  y = column_or_1d(y, warn=True)\n",
      "c:\\users\\dhiman\\anaconda3\\envs\\tensorflow\\lib\\site-packages\\sklearn\\utils\\validation.py:578: DataConversionWarning: A column-vector y was passed when a 1d array was expected. Please change the shape of y to (n_samples, ), for example using ravel().\n",
      "  y = column_or_1d(y, warn=True)\n",
      "c:\\users\\dhiman\\anaconda3\\envs\\tensorflow\\lib\\site-packages\\sklearn\\utils\\validation.py:578: DataConversionWarning: A column-vector y was passed when a 1d array was expected. Please change the shape of y to (n_samples, ), for example using ravel().\n",
      "  y = column_or_1d(y, warn=True)\n",
      "c:\\users\\dhiman\\anaconda3\\envs\\tensorflow\\lib\\site-packages\\sklearn\\utils\\validation.py:578: DataConversionWarning: A column-vector y was passed when a 1d array was expected. Please change the shape of y to (n_samples, ), for example using ravel().\n",
      "  y = column_or_1d(y, warn=True)\n",
      "c:\\users\\dhiman\\anaconda3\\envs\\tensorflow\\lib\\site-packages\\sklearn\\utils\\validation.py:578: DataConversionWarning: A column-vector y was passed when a 1d array was expected. Please change the shape of y to (n_samples, ), for example using ravel().\n",
      "  y = column_or_1d(y, warn=True)\n",
      "c:\\users\\dhiman\\anaconda3\\envs\\tensorflow\\lib\\site-packages\\sklearn\\utils\\validation.py:578: DataConversionWarning: A column-vector y was passed when a 1d array was expected. Please change the shape of y to (n_samples, ), for example using ravel().\n",
      "  y = column_or_1d(y, warn=True)\n",
      "c:\\users\\dhiman\\anaconda3\\envs\\tensorflow\\lib\\site-packages\\sklearn\\utils\\validation.py:578: DataConversionWarning: A column-vector y was passed when a 1d array was expected. Please change the shape of y to (n_samples, ), for example using ravel().\n",
      "  y = column_or_1d(y, warn=True)\n",
      "c:\\users\\dhiman\\anaconda3\\envs\\tensorflow\\lib\\site-packages\\sklearn\\utils\\validation.py:578: DataConversionWarning: A column-vector y was passed when a 1d array was expected. Please change the shape of y to (n_samples, ), for example using ravel().\n",
      "  y = column_or_1d(y, warn=True)\n",
      "c:\\users\\dhiman\\anaconda3\\envs\\tensorflow\\lib\\site-packages\\sklearn\\utils\\validation.py:578: DataConversionWarning: A column-vector y was passed when a 1d array was expected. Please change the shape of y to (n_samples, ), for example using ravel().\n",
      "  y = column_or_1d(y, warn=True)\n",
      "c:\\users\\dhiman\\anaconda3\\envs\\tensorflow\\lib\\site-packages\\sklearn\\utils\\validation.py:578: DataConversionWarning: A column-vector y was passed when a 1d array was expected. Please change the shape of y to (n_samples, ), for example using ravel().\n",
      "  y = column_or_1d(y, warn=True)\n",
      "c:\\users\\dhiman\\anaconda3\\envs\\tensorflow\\lib\\site-packages\\sklearn\\utils\\validation.py:578: DataConversionWarning: A column-vector y was passed when a 1d array was expected. Please change the shape of y to (n_samples, ), for example using ravel().\n",
      "  y = column_or_1d(y, warn=True)\n",
      "c:\\users\\dhiman\\anaconda3\\envs\\tensorflow\\lib\\site-packages\\sklearn\\utils\\validation.py:578: DataConversionWarning: A column-vector y was passed when a 1d array was expected. Please change the shape of y to (n_samples, ), for example using ravel().\n",
      "  y = column_or_1d(y, warn=True)\n",
      "[Parallel(n_jobs=1)]: Done  40 out of  40 | elapsed:    0.0s finished\n",
      "c:\\users\\dhiman\\anaconda3\\envs\\tensorflow\\lib\\site-packages\\sklearn\\utils\\validation.py:578: DataConversionWarning: A column-vector y was passed when a 1d array was expected. Please change the shape of y to (n_samples, ), for example using ravel().\n",
      "  y = column_or_1d(y, warn=True)\n"
     ]
    }
   ],
   "source": [
    "# Variance Threshold likely will not help \n",
    "variance_pipe = Pipeline([('variance', VarianceThreshold()), \n",
    "                          ('clf', lr)])\n",
    "\n",
    "variance_pipe_params = copy.deepcopy(lr_params)\n",
    "\n",
    "variance_pipe_params.update({\n",
    "    'variance__threshold':[.05, .1, .15, .2, .25, .3, .4, .5]\n",
    "                                 })\n",
    "print(variance_pipe_params)\n",
    "# better than original, but a bit faster on average\n",
    "get_best_model_and_accuracy(variance_pipe,cv, variance_pipe_params, X_transformed, Y_transformed)  "
   ]
  },
  {
   "cell_type": "code",
   "execution_count": 37,
   "metadata": {},
   "outputs": [
    {
     "name": "stderr",
     "output_type": "stream",
     "text": [
      "c:\\users\\dhiman\\anaconda3\\envs\\tensorflow\\lib\\site-packages\\sklearn\\utils\\validation.py:578: DataConversionWarning: A column-vector y was passed when a 1d array was expected. Please change the shape of y to (n_samples, ), for example using ravel().\n",
      "  y = column_or_1d(y, warn=True)\n",
      "c:\\users\\dhiman\\anaconda3\\envs\\tensorflow\\lib\\site-packages\\sklearn\\feature_selection\\univariate_selection.py:113: UserWarning: Features [ 7 10 11 13] are constant.\n",
      "  UserWarning)\n",
      "c:\\users\\dhiman\\anaconda3\\envs\\tensorflow\\lib\\site-packages\\sklearn\\feature_selection\\univariate_selection.py:114: RuntimeWarning: invalid value encountered in true_divide\n",
      "  f = msb / msw\n"
     ]
    },
    {
     "data": {
      "text/html": [
       "<div>\n",
       "<style scoped>\n",
       "    .dataframe tbody tr th:only-of-type {\n",
       "        vertical-align: middle;\n",
       "    }\n",
       "\n",
       "    .dataframe tbody tr th {\n",
       "        vertical-align: top;\n",
       "    }\n",
       "\n",
       "    .dataframe thead th {\n",
       "        text-align: right;\n",
       "    }\n",
       "</style>\n",
       "<table border=\"1\" class=\"dataframe\">\n",
       "  <thead>\n",
       "    <tr style=\"text-align: right;\">\n",
       "      <th></th>\n",
       "      <th>column</th>\n",
       "      <th>p_value</th>\n",
       "    </tr>\n",
       "  </thead>\n",
       "  <tbody>\n",
       "    <tr>\n",
       "      <th>4</th>\n",
       "      <td>Credit_History</td>\n",
       "      <td>1.608149e-37</td>\n",
       "    </tr>\n",
       "    <tr>\n",
       "      <th>15</th>\n",
       "      <td>Property_Area_Semiurban</td>\n",
       "      <td>1.229911e-02</td>\n",
       "    </tr>\n",
       "    <tr>\n",
       "      <th>14</th>\n",
       "      <td>Property_Area_Rural</td>\n",
       "      <td>1.928989e-02</td>\n",
       "    </tr>\n",
       "    <tr>\n",
       "      <th>8</th>\n",
       "      <td>Married_No</td>\n",
       "      <td>5.143798e-02</td>\n",
       "    </tr>\n",
       "    <tr>\n",
       "      <th>9</th>\n",
       "      <td>Education_Graduate</td>\n",
       "      <td>5.798709e-02</td>\n",
       "    </tr>\n",
       "  </tbody>\n",
       "</table>\n",
       "</div>"
      ],
      "text/plain": [
       "                     column       p_value\n",
       "4            Credit_History  1.608149e-37\n",
       "15  Property_Area_Semiurban  1.229911e-02\n",
       "14      Property_Area_Rural  1.928989e-02\n",
       "8                Married_No  5.143798e-02\n",
       "9        Education_Graduate  5.798709e-02"
      ]
     },
     "execution_count": 37,
     "metadata": {},
     "output_type": "execute_result"
    }
   ],
   "source": [
    "# SelectKBest selects features according to the k highest scores of \n",
    "# a given scoring function\n",
    "from sklearn.feature_selection import SelectKBest\n",
    "\n",
    "# This models a statistical test known as ANOVA\n",
    "from sklearn.feature_selection import f_classif\n",
    "# f_classif allows for negative values, not all do\n",
    "# chi2 is a very common classification criteria but only \n",
    "# allows for positive values\n",
    "\n",
    "# regression has its own statistical tests\n",
    "#  keep only the best five features according to p-values of ANOVA test\n",
    "k_best = SelectKBest(f_classif, k=5)\n",
    "\n",
    "# matrix after selecting the top 5 features\n",
    "k_best.fit_transform(X_transformed, Y_transformed)\n",
    "\n",
    "k_best.pvalues_  # p values of columns\n",
    "\n",
    "p_values = pd.DataFrame({'column': X_transformed.columns, 'p_value': k_best.pvalues_}).sort_values('p_value')\n",
    "\n",
    "p_values.head()"
   ]
  },
  {
   "cell_type": "code",
   "execution_count": 38,
   "metadata": {},
   "outputs": [
    {
     "data": {
      "text/html": [
       "<div>\n",
       "<style scoped>\n",
       "    .dataframe tbody tr th:only-of-type {\n",
       "        vertical-align: middle;\n",
       "    }\n",
       "\n",
       "    .dataframe tbody tr th {\n",
       "        vertical-align: top;\n",
       "    }\n",
       "\n",
       "    .dataframe thead th {\n",
       "        text-align: right;\n",
       "    }\n",
       "</style>\n",
       "<table border=\"1\" class=\"dataframe\">\n",
       "  <thead>\n",
       "    <tr style=\"text-align: right;\">\n",
       "      <th></th>\n",
       "      <th>column</th>\n",
       "      <th>p_value</th>\n",
       "    </tr>\n",
       "  </thead>\n",
       "  <tbody>\n",
       "    <tr>\n",
       "      <th>4</th>\n",
       "      <td>Credit_History</td>\n",
       "      <td>1.608149e-37</td>\n",
       "    </tr>\n",
       "    <tr>\n",
       "      <th>15</th>\n",
       "      <td>Property_Area_Semiurban</td>\n",
       "      <td>1.229911e-02</td>\n",
       "    </tr>\n",
       "    <tr>\n",
       "      <th>14</th>\n",
       "      <td>Property_Area_Rural</td>\n",
       "      <td>1.928989e-02</td>\n",
       "    </tr>\n",
       "  </tbody>\n",
       "</table>\n",
       "</div>"
      ],
      "text/plain": [
       "                     column       p_value\n",
       "4            Credit_History  1.608149e-37\n",
       "15  Property_Area_Semiurban  1.229911e-02\n",
       "14      Property_Area_Rural  1.928989e-02"
      ]
     },
     "execution_count": 38,
     "metadata": {},
     "output_type": "execute_result"
    }
   ],
   "source": [
    "# features with a low p value\n",
    "p_values[p_values['p_value'] < .05]"
   ]
  },
  {
   "cell_type": "code",
   "execution_count": 39,
   "metadata": {},
   "outputs": [
    {
     "data": {
      "text/html": [
       "<div>\n",
       "<style scoped>\n",
       "    .dataframe tbody tr th:only-of-type {\n",
       "        vertical-align: middle;\n",
       "    }\n",
       "\n",
       "    .dataframe tbody tr th {\n",
       "        vertical-align: top;\n",
       "    }\n",
       "\n",
       "    .dataframe thead th {\n",
       "        text-align: right;\n",
       "    }\n",
       "</style>\n",
       "<table border=\"1\" class=\"dataframe\">\n",
       "  <thead>\n",
       "    <tr style=\"text-align: right;\">\n",
       "      <th></th>\n",
       "      <th>column</th>\n",
       "      <th>p_value</th>\n",
       "    </tr>\n",
       "  </thead>\n",
       "  <tbody>\n",
       "    <tr>\n",
       "      <th>8</th>\n",
       "      <td>Married_No</td>\n",
       "      <td>0.051438</td>\n",
       "    </tr>\n",
       "    <tr>\n",
       "      <th>9</th>\n",
       "      <td>Education_Graduate</td>\n",
       "      <td>0.057987</td>\n",
       "    </tr>\n",
       "    <tr>\n",
       "      <th>1</th>\n",
       "      <td>CoapplicantIncome</td>\n",
       "      <td>0.151881</td>\n",
       "    </tr>\n",
       "    <tr>\n",
       "      <th>18</th>\n",
       "      <td>Dependents_2</td>\n",
       "      <td>0.245736</td>\n",
       "    </tr>\n",
       "    <tr>\n",
       "      <th>17</th>\n",
       "      <td>Dependents_1</td>\n",
       "      <td>0.336119</td>\n",
       "    </tr>\n",
       "    <tr>\n",
       "      <th>19</th>\n",
       "      <td>Dependents_3+</td>\n",
       "      <td>0.337658</td>\n",
       "    </tr>\n",
       "    <tr>\n",
       "      <th>16</th>\n",
       "      <td>Dependents_0</td>\n",
       "      <td>0.694666</td>\n",
       "    </tr>\n",
       "    <tr>\n",
       "      <th>2</th>\n",
       "      <td>LoanAmount</td>\n",
       "      <td>0.733303</td>\n",
       "    </tr>\n",
       "    <tr>\n",
       "      <th>12</th>\n",
       "      <td>Self_Employed_No</td>\n",
       "      <td>0.834111</td>\n",
       "    </tr>\n",
       "    <tr>\n",
       "      <th>3</th>\n",
       "      <td>Loan_Amount_Term</td>\n",
       "      <td>0.884514</td>\n",
       "    </tr>\n",
       "    <tr>\n",
       "      <th>0</th>\n",
       "      <td>ApplicantIncome</td>\n",
       "      <td>0.951968</td>\n",
       "    </tr>\n",
       "    <tr>\n",
       "      <th>5</th>\n",
       "      <td>Gender_Female</td>\n",
       "      <td>1.000000</td>\n",
       "    </tr>\n",
       "    <tr>\n",
       "      <th>6</th>\n",
       "      <td>Gender_Male</td>\n",
       "      <td>1.000000</td>\n",
       "    </tr>\n",
       "  </tbody>\n",
       "</table>\n",
       "</div>"
      ],
      "text/plain": [
       "                column   p_value\n",
       "8           Married_No  0.051438\n",
       "9   Education_Graduate  0.057987\n",
       "1    CoapplicantIncome  0.151881\n",
       "18        Dependents_2  0.245736\n",
       "17        Dependents_1  0.336119\n",
       "19       Dependents_3+  0.337658\n",
       "16        Dependents_0  0.694666\n",
       "2           LoanAmount  0.733303\n",
       "12    Self_Employed_No  0.834111\n",
       "3     Loan_Amount_Term  0.884514\n",
       "0      ApplicantIncome  0.951968\n",
       "5        Gender_Female  1.000000\n",
       "6          Gender_Male  1.000000"
      ]
     },
     "execution_count": 39,
     "metadata": {},
     "output_type": "execute_result"
    }
   ],
   "source": [
    "# features with a high p value\n",
    "p_values[p_values['p_value'] >= .05]"
   ]
  },
  {
   "cell_type": "code",
   "execution_count": 60,
   "metadata": {},
   "outputs": [],
   "source": [
    "X_select=X_transformed[['Credit_History','Property_Area_Semiurban','Property_Area_Rural']]"
   ]
  },
  {
   "cell_type": "code",
   "execution_count": 62,
   "metadata": {},
   "outputs": [
    {
     "data": {
      "text/plain": [
       "0.8217391304347826"
      ]
     },
     "execution_count": 62,
     "metadata": {},
     "output_type": "execute_result"
    }
   ],
   "source": [
    "# Fitting a logistic regression with CV\n",
    "(cross_val_score(build_pipe(LogisticRegression(random_state=seed)), \n",
    "                X=X_train, y=y_train, cv=cv, scoring='accuracy')).mean()"
   ]
  },
  {
   "cell_type": "code",
   "execution_count": 65,
   "metadata": {},
   "outputs": [
    {
     "name": "stderr",
     "output_type": "stream",
     "text": [
      "c:\\users\\dhiman\\anaconda3\\envs\\tensorflow\\lib\\site-packages\\sklearn\\utils\\validation.py:578: DataConversionWarning: A column-vector y was passed when a 1d array was expected. Please change the shape of y to (n_samples, ), for example using ravel().\n",
      "  y = column_or_1d(y, warn=True)\n",
      "c:\\users\\dhiman\\anaconda3\\envs\\tensorflow\\lib\\site-packages\\sklearn\\utils\\validation.py:578: DataConversionWarning: A column-vector y was passed when a 1d array was expected. Please change the shape of y to (n_samples, ), for example using ravel().\n",
      "  y = column_or_1d(y, warn=True)\n",
      "c:\\users\\dhiman\\anaconda3\\envs\\tensorflow\\lib\\site-packages\\sklearn\\utils\\validation.py:578: DataConversionWarning: A column-vector y was passed when a 1d array was expected. Please change the shape of y to (n_samples, ), for example using ravel().\n",
      "  y = column_or_1d(y, warn=True)\n",
      "c:\\users\\dhiman\\anaconda3\\envs\\tensorflow\\lib\\site-packages\\sklearn\\utils\\validation.py:578: DataConversionWarning: A column-vector y was passed when a 1d array was expected. Please change the shape of y to (n_samples, ), for example using ravel().\n",
      "  y = column_or_1d(y, warn=True)\n",
      "c:\\users\\dhiman\\anaconda3\\envs\\tensorflow\\lib\\site-packages\\sklearn\\utils\\validation.py:578: DataConversionWarning: A column-vector y was passed when a 1d array was expected. Please change the shape of y to (n_samples, ), for example using ravel().\n",
      "  y = column_or_1d(y, warn=True)\n"
     ]
    },
    {
     "data": {
      "text/plain": [
       "0.8195652173913043"
      ]
     },
     "execution_count": 65,
     "metadata": {},
     "output_type": "execute_result"
    }
   ],
   "source": [
    "# Fitting a logistic regression with CV\n",
    "(cross_val_score(LogisticRegression(random_state=seed), \n",
    "                X=X_select, y=Y_transformed, cv=cv, scoring='accuracy')).mean()"
   ]
  },
  {
   "cell_type": "code",
   "execution_count": 40,
   "metadata": {},
   "outputs": [
    {
     "name": "stdout",
     "output_type": "stream",
     "text": [
      "{'clf__C': [0.1, 1.0, 10.0, 100.0], 'clf__penalty': ['l1', 'l2'], 'k_best__k': [1, 2, 3, 4, 5, 6, 7, 8, 9, 10, 11, 12, 13, 14, 15, 16, 17, 18, 19, 20, 21, 22, 'all']}\n",
      "Fitting 5 folds for each of 8 candidates, totalling 40 fits\n"
     ]
    },
    {
     "name": "stderr",
     "output_type": "stream",
     "text": [
      "c:\\users\\dhiman\\anaconda3\\envs\\tensorflow\\lib\\site-packages\\sklearn\\utils\\validation.py:578: DataConversionWarning: A column-vector y was passed when a 1d array was expected. Please change the shape of y to (n_samples, ), for example using ravel().\n",
      "  y = column_or_1d(y, warn=True)\n",
      "c:\\users\\dhiman\\anaconda3\\envs\\tensorflow\\lib\\site-packages\\sklearn\\feature_selection\\univariate_selection.py:113: UserWarning: Features [ 7 10 11 13] are constant.\n",
      "  UserWarning)\n",
      "c:\\users\\dhiman\\anaconda3\\envs\\tensorflow\\lib\\site-packages\\sklearn\\feature_selection\\univariate_selection.py:114: RuntimeWarning: invalid value encountered in true_divide\n",
      "  f = msb / msw\n",
      "c:\\users\\dhiman\\anaconda3\\envs\\tensorflow\\lib\\site-packages\\sklearn\\utils\\validation.py:578: DataConversionWarning: A column-vector y was passed when a 1d array was expected. Please change the shape of y to (n_samples, ), for example using ravel().\n",
      "  y = column_or_1d(y, warn=True)\n",
      "c:\\users\\dhiman\\anaconda3\\envs\\tensorflow\\lib\\site-packages\\sklearn\\feature_selection\\univariate_selection.py:113: UserWarning: Features [ 7 10 11 13] are constant.\n",
      "  UserWarning)\n",
      "c:\\users\\dhiman\\anaconda3\\envs\\tensorflow\\lib\\site-packages\\sklearn\\feature_selection\\univariate_selection.py:114: RuntimeWarning: invalid value encountered in true_divide\n",
      "  f = msb / msw\n",
      "c:\\users\\dhiman\\anaconda3\\envs\\tensorflow\\lib\\site-packages\\sklearn\\utils\\validation.py:578: DataConversionWarning: A column-vector y was passed when a 1d array was expected. Please change the shape of y to (n_samples, ), for example using ravel().\n",
      "  y = column_or_1d(y, warn=True)\n",
      "c:\\users\\dhiman\\anaconda3\\envs\\tensorflow\\lib\\site-packages\\sklearn\\feature_selection\\univariate_selection.py:113: UserWarning: Features [ 7 10 11 13] are constant.\n",
      "  UserWarning)\n",
      "c:\\users\\dhiman\\anaconda3\\envs\\tensorflow\\lib\\site-packages\\sklearn\\feature_selection\\univariate_selection.py:114: RuntimeWarning: invalid value encountered in true_divide\n",
      "  f = msb / msw\n",
      "c:\\users\\dhiman\\anaconda3\\envs\\tensorflow\\lib\\site-packages\\sklearn\\utils\\validation.py:578: DataConversionWarning: A column-vector y was passed when a 1d array was expected. Please change the shape of y to (n_samples, ), for example using ravel().\n",
      "  y = column_or_1d(y, warn=True)\n",
      "c:\\users\\dhiman\\anaconda3\\envs\\tensorflow\\lib\\site-packages\\sklearn\\feature_selection\\univariate_selection.py:113: UserWarning: Features [ 7 10 11 13] are constant.\n",
      "  UserWarning)\n",
      "c:\\users\\dhiman\\anaconda3\\envs\\tensorflow\\lib\\site-packages\\sklearn\\feature_selection\\univariate_selection.py:114: RuntimeWarning: invalid value encountered in true_divide\n",
      "  f = msb / msw\n",
      "c:\\users\\dhiman\\anaconda3\\envs\\tensorflow\\lib\\site-packages\\sklearn\\utils\\validation.py:578: DataConversionWarning: A column-vector y was passed when a 1d array was expected. Please change the shape of y to (n_samples, ), for example using ravel().\n",
      "  y = column_or_1d(y, warn=True)\n",
      "c:\\users\\dhiman\\anaconda3\\envs\\tensorflow\\lib\\site-packages\\sklearn\\feature_selection\\univariate_selection.py:113: UserWarning: Features [ 7 10 11 13] are constant.\n",
      "  UserWarning)\n",
      "c:\\users\\dhiman\\anaconda3\\envs\\tensorflow\\lib\\site-packages\\sklearn\\feature_selection\\univariate_selection.py:114: RuntimeWarning: invalid value encountered in true_divide\n",
      "  f = msb / msw\n",
      "c:\\users\\dhiman\\anaconda3\\envs\\tensorflow\\lib\\site-packages\\sklearn\\utils\\validation.py:578: DataConversionWarning: A column-vector y was passed when a 1d array was expected. Please change the shape of y to (n_samples, ), for example using ravel().\n",
      "  y = column_or_1d(y, warn=True)\n",
      "c:\\users\\dhiman\\anaconda3\\envs\\tensorflow\\lib\\site-packages\\sklearn\\feature_selection\\univariate_selection.py:113: UserWarning: Features [ 7 10 11 13] are constant.\n",
      "  UserWarning)\n",
      "c:\\users\\dhiman\\anaconda3\\envs\\tensorflow\\lib\\site-packages\\sklearn\\feature_selection\\univariate_selection.py:114: RuntimeWarning: invalid value encountered in true_divide\n",
      "  f = msb / msw\n",
      "c:\\users\\dhiman\\anaconda3\\envs\\tensorflow\\lib\\site-packages\\sklearn\\utils\\validation.py:578: DataConversionWarning: A column-vector y was passed when a 1d array was expected. Please change the shape of y to (n_samples, ), for example using ravel().\n",
      "  y = column_or_1d(y, warn=True)\n",
      "c:\\users\\dhiman\\anaconda3\\envs\\tensorflow\\lib\\site-packages\\sklearn\\feature_selection\\univariate_selection.py:113: UserWarning: Features [ 7 10 11 13] are constant.\n",
      "  UserWarning)\n",
      "c:\\users\\dhiman\\anaconda3\\envs\\tensorflow\\lib\\site-packages\\sklearn\\feature_selection\\univariate_selection.py:114: RuntimeWarning: invalid value encountered in true_divide\n",
      "  f = msb / msw\n",
      "c:\\users\\dhiman\\anaconda3\\envs\\tensorflow\\lib\\site-packages\\sklearn\\utils\\validation.py:578: DataConversionWarning: A column-vector y was passed when a 1d array was expected. Please change the shape of y to (n_samples, ), for example using ravel().\n",
      "  y = column_or_1d(y, warn=True)\n",
      "c:\\users\\dhiman\\anaconda3\\envs\\tensorflow\\lib\\site-packages\\sklearn\\feature_selection\\univariate_selection.py:113: UserWarning: Features [ 7 10 11 13] are constant.\n",
      "  UserWarning)\n",
      "c:\\users\\dhiman\\anaconda3\\envs\\tensorflow\\lib\\site-packages\\sklearn\\feature_selection\\univariate_selection.py:114: RuntimeWarning: invalid value encountered in true_divide\n",
      "  f = msb / msw\n",
      "c:\\users\\dhiman\\anaconda3\\envs\\tensorflow\\lib\\site-packages\\sklearn\\utils\\validation.py:578: DataConversionWarning: A column-vector y was passed when a 1d array was expected. Please change the shape of y to (n_samples, ), for example using ravel().\n",
      "  y = column_or_1d(y, warn=True)\n",
      "c:\\users\\dhiman\\anaconda3\\envs\\tensorflow\\lib\\site-packages\\sklearn\\feature_selection\\univariate_selection.py:113: UserWarning: Features [ 7 10 11 13] are constant.\n",
      "  UserWarning)\n",
      "c:\\users\\dhiman\\anaconda3\\envs\\tensorflow\\lib\\site-packages\\sklearn\\feature_selection\\univariate_selection.py:114: RuntimeWarning: invalid value encountered in true_divide\n",
      "  f = msb / msw\n",
      "c:\\users\\dhiman\\anaconda3\\envs\\tensorflow\\lib\\site-packages\\sklearn\\utils\\validation.py:578: DataConversionWarning: A column-vector y was passed when a 1d array was expected. Please change the shape of y to (n_samples, ), for example using ravel().\n",
      "  y = column_or_1d(y, warn=True)\n",
      "c:\\users\\dhiman\\anaconda3\\envs\\tensorflow\\lib\\site-packages\\sklearn\\feature_selection\\univariate_selection.py:113: UserWarning: Features [ 7 10 11 13] are constant.\n",
      "  UserWarning)\n",
      "c:\\users\\dhiman\\anaconda3\\envs\\tensorflow\\lib\\site-packages\\sklearn\\feature_selection\\univariate_selection.py:114: RuntimeWarning: invalid value encountered in true_divide\n",
      "  f = msb / msw\n",
      "c:\\users\\dhiman\\anaconda3\\envs\\tensorflow\\lib\\site-packages\\sklearn\\model_selection\\_validation.py:479: FitFailedWarning: Classifier fit failed. The score on this train-test partition for these parameters will be set to 0.000000. Details: \n",
      "ValueError(\"k should be >=0, <= n_features; got 22.Use k='all' to return all features.\",)\n",
      "  \"Details: \\n%r\" % (error_score, e), FitFailedWarning)\n",
      "c:\\users\\dhiman\\anaconda3\\envs\\tensorflow\\lib\\site-packages\\sklearn\\model_selection\\_validation.py:479: FitFailedWarning: Classifier fit failed. The score on this train-test partition for these parameters will be set to 0.000000. Details: \n",
      "ValueError(\"k should be >=0, <= n_features; got 22.Use k='all' to return all features.\",)\n",
      "  \"Details: \\n%r\" % (error_score, e), FitFailedWarning)\n",
      "c:\\users\\dhiman\\anaconda3\\envs\\tensorflow\\lib\\site-packages\\sklearn\\model_selection\\_validation.py:479: FitFailedWarning: Classifier fit failed. The score on this train-test partition for these parameters will be set to 0.000000. Details: \n",
      "ValueError(\"k should be >=0, <= n_features; got 22.Use k='all' to return all features.\",)\n",
      "  \"Details: \\n%r\" % (error_score, e), FitFailedWarning)\n",
      "c:\\users\\dhiman\\anaconda3\\envs\\tensorflow\\lib\\site-packages\\sklearn\\model_selection\\_validation.py:479: FitFailedWarning: Classifier fit failed. The score on this train-test partition for these parameters will be set to 0.000000. Details: \n",
      "ValueError(\"k should be >=0, <= n_features; got 22.Use k='all' to return all features.\",)\n",
      "  \"Details: \\n%r\" % (error_score, e), FitFailedWarning)\n",
      "c:\\users\\dhiman\\anaconda3\\envs\\tensorflow\\lib\\site-packages\\sklearn\\model_selection\\_validation.py:479: FitFailedWarning: Classifier fit failed. The score on this train-test partition for these parameters will be set to 0.000000. Details: \n",
      "ValueError(\"k should be >=0, <= n_features; got 22.Use k='all' to return all features.\",)\n",
      "  \"Details: \\n%r\" % (error_score, e), FitFailedWarning)\n",
      "c:\\users\\dhiman\\anaconda3\\envs\\tensorflow\\lib\\site-packages\\sklearn\\utils\\validation.py:578: DataConversionWarning: A column-vector y was passed when a 1d array was expected. Please change the shape of y to (n_samples, ), for example using ravel().\n",
      "  y = column_or_1d(y, warn=True)\n",
      "c:\\users\\dhiman\\anaconda3\\envs\\tensorflow\\lib\\site-packages\\sklearn\\feature_selection\\univariate_selection.py:113: UserWarning: Features [ 7 10 11 13] are constant.\n",
      "  UserWarning)\n",
      "c:\\users\\dhiman\\anaconda3\\envs\\tensorflow\\lib\\site-packages\\sklearn\\feature_selection\\univariate_selection.py:114: RuntimeWarning: invalid value encountered in true_divide\n",
      "  f = msb / msw\n",
      "c:\\users\\dhiman\\anaconda3\\envs\\tensorflow\\lib\\site-packages\\sklearn\\utils\\validation.py:578: DataConversionWarning: A column-vector y was passed when a 1d array was expected. Please change the shape of y to (n_samples, ), for example using ravel().\n",
      "  y = column_or_1d(y, warn=True)\n",
      "c:\\users\\dhiman\\anaconda3\\envs\\tensorflow\\lib\\site-packages\\sklearn\\feature_selection\\univariate_selection.py:113: UserWarning: Features [ 7 10 11 13] are constant.\n",
      "  UserWarning)\n",
      "c:\\users\\dhiman\\anaconda3\\envs\\tensorflow\\lib\\site-packages\\sklearn\\feature_selection\\univariate_selection.py:114: RuntimeWarning: invalid value encountered in true_divide\n",
      "  f = msb / msw\n",
      "c:\\users\\dhiman\\anaconda3\\envs\\tensorflow\\lib\\site-packages\\sklearn\\utils\\validation.py:578: DataConversionWarning: A column-vector y was passed when a 1d array was expected. Please change the shape of y to (n_samples, ), for example using ravel().\n",
      "  y = column_or_1d(y, warn=True)\n",
      "c:\\users\\dhiman\\anaconda3\\envs\\tensorflow\\lib\\site-packages\\sklearn\\feature_selection\\univariate_selection.py:113: UserWarning: Features [ 7 10 11 13] are constant.\n",
      "  UserWarning)\n",
      "c:\\users\\dhiman\\anaconda3\\envs\\tensorflow\\lib\\site-packages\\sklearn\\feature_selection\\univariate_selection.py:114: RuntimeWarning: invalid value encountered in true_divide\n",
      "  f = msb / msw\n",
      "c:\\users\\dhiman\\anaconda3\\envs\\tensorflow\\lib\\site-packages\\sklearn\\utils\\validation.py:578: DataConversionWarning: A column-vector y was passed when a 1d array was expected. Please change the shape of y to (n_samples, ), for example using ravel().\n",
      "  y = column_or_1d(y, warn=True)\n",
      "c:\\users\\dhiman\\anaconda3\\envs\\tensorflow\\lib\\site-packages\\sklearn\\feature_selection\\univariate_selection.py:113: UserWarning: Features [ 7 10 11 13] are constant.\n",
      "  UserWarning)\n",
      "c:\\users\\dhiman\\anaconda3\\envs\\tensorflow\\lib\\site-packages\\sklearn\\feature_selection\\univariate_selection.py:114: RuntimeWarning: invalid value encountered in true_divide\n",
      "  f = msb / msw\n",
      "c:\\users\\dhiman\\anaconda3\\envs\\tensorflow\\lib\\site-packages\\sklearn\\utils\\validation.py:578: DataConversionWarning: A column-vector y was passed when a 1d array was expected. Please change the shape of y to (n_samples, ), for example using ravel().\n",
      "  y = column_or_1d(y, warn=True)\n",
      "c:\\users\\dhiman\\anaconda3\\envs\\tensorflow\\lib\\site-packages\\sklearn\\feature_selection\\univariate_selection.py:113: UserWarning: Features [ 7 10 11 13] are constant.\n",
      "  UserWarning)\n",
      "c:\\users\\dhiman\\anaconda3\\envs\\tensorflow\\lib\\site-packages\\sklearn\\feature_selection\\univariate_selection.py:114: RuntimeWarning: invalid value encountered in true_divide\n",
      "  f = msb / msw\n",
      "c:\\users\\dhiman\\anaconda3\\envs\\tensorflow\\lib\\site-packages\\sklearn\\utils\\validation.py:578: DataConversionWarning: A column-vector y was passed when a 1d array was expected. Please change the shape of y to (n_samples, ), for example using ravel().\n",
      "  y = column_or_1d(y, warn=True)\n",
      "c:\\users\\dhiman\\anaconda3\\envs\\tensorflow\\lib\\site-packages\\sklearn\\feature_selection\\univariate_selection.py:113: UserWarning: Features [ 7 10 11 13] are constant.\n",
      "  UserWarning)\n",
      "c:\\users\\dhiman\\anaconda3\\envs\\tensorflow\\lib\\site-packages\\sklearn\\feature_selection\\univariate_selection.py:114: RuntimeWarning: invalid value encountered in true_divide\n",
      "  f = msb / msw\n",
      "c:\\users\\dhiman\\anaconda3\\envs\\tensorflow\\lib\\site-packages\\sklearn\\utils\\validation.py:578: DataConversionWarning: A column-vector y was passed when a 1d array was expected. Please change the shape of y to (n_samples, ), for example using ravel().\n",
      "  y = column_or_1d(y, warn=True)\n",
      "c:\\users\\dhiman\\anaconda3\\envs\\tensorflow\\lib\\site-packages\\sklearn\\feature_selection\\univariate_selection.py:113: UserWarning: Features [ 7 10 11 13] are constant.\n",
      "  UserWarning)\n",
      "c:\\users\\dhiman\\anaconda3\\envs\\tensorflow\\lib\\site-packages\\sklearn\\feature_selection\\univariate_selection.py:114: RuntimeWarning: invalid value encountered in true_divide\n",
      "  f = msb / msw\n",
      "c:\\users\\dhiman\\anaconda3\\envs\\tensorflow\\lib\\site-packages\\sklearn\\utils\\validation.py:578: DataConversionWarning: A column-vector y was passed when a 1d array was expected. Please change the shape of y to (n_samples, ), for example using ravel().\n",
      "  y = column_or_1d(y, warn=True)\n",
      "c:\\users\\dhiman\\anaconda3\\envs\\tensorflow\\lib\\site-packages\\sklearn\\feature_selection\\univariate_selection.py:113: UserWarning: Features [ 7 10 11 13] are constant.\n",
      "  UserWarning)\n",
      "c:\\users\\dhiman\\anaconda3\\envs\\tensorflow\\lib\\site-packages\\sklearn\\feature_selection\\univariate_selection.py:114: RuntimeWarning: invalid value encountered in true_divide\n",
      "  f = msb / msw\n",
      "c:\\users\\dhiman\\anaconda3\\envs\\tensorflow\\lib\\site-packages\\sklearn\\utils\\validation.py:578: DataConversionWarning: A column-vector y was passed when a 1d array was expected. Please change the shape of y to (n_samples, ), for example using ravel().\n",
      "  y = column_or_1d(y, warn=True)\n",
      "c:\\users\\dhiman\\anaconda3\\envs\\tensorflow\\lib\\site-packages\\sklearn\\feature_selection\\univariate_selection.py:113: UserWarning: Features [ 7 10 11 13] are constant.\n",
      "  UserWarning)\n",
      "c:\\users\\dhiman\\anaconda3\\envs\\tensorflow\\lib\\site-packages\\sklearn\\feature_selection\\univariate_selection.py:114: RuntimeWarning: invalid value encountered in true_divide\n",
      "  f = msb / msw\n",
      "c:\\users\\dhiman\\anaconda3\\envs\\tensorflow\\lib\\site-packages\\sklearn\\utils\\validation.py:578: DataConversionWarning: A column-vector y was passed when a 1d array was expected. Please change the shape of y to (n_samples, ), for example using ravel().\n",
      "  y = column_or_1d(y, warn=True)\n",
      "c:\\users\\dhiman\\anaconda3\\envs\\tensorflow\\lib\\site-packages\\sklearn\\feature_selection\\univariate_selection.py:113: UserWarning: Features [ 7 10 11 13] are constant.\n",
      "  UserWarning)\n",
      "c:\\users\\dhiman\\anaconda3\\envs\\tensorflow\\lib\\site-packages\\sklearn\\feature_selection\\univariate_selection.py:114: RuntimeWarning: invalid value encountered in true_divide\n",
      "  f = msb / msw\n",
      "c:\\users\\dhiman\\anaconda3\\envs\\tensorflow\\lib\\site-packages\\sklearn\\utils\\validation.py:578: DataConversionWarning: A column-vector y was passed when a 1d array was expected. Please change the shape of y to (n_samples, ), for example using ravel().\n",
      "  y = column_or_1d(y, warn=True)\n",
      "c:\\users\\dhiman\\anaconda3\\envs\\tensorflow\\lib\\site-packages\\sklearn\\feature_selection\\univariate_selection.py:113: UserWarning: Features [ 7 10 11 13] are constant.\n",
      "  UserWarning)\n",
      "c:\\users\\dhiman\\anaconda3\\envs\\tensorflow\\lib\\site-packages\\sklearn\\feature_selection\\univariate_selection.py:114: RuntimeWarning: invalid value encountered in true_divide\n",
      "  f = msb / msw\n",
      "c:\\users\\dhiman\\anaconda3\\envs\\tensorflow\\lib\\site-packages\\sklearn\\utils\\validation.py:578: DataConversionWarning: A column-vector y was passed when a 1d array was expected. Please change the shape of y to (n_samples, ), for example using ravel().\n",
      "  y = column_or_1d(y, warn=True)\n",
      "c:\\users\\dhiman\\anaconda3\\envs\\tensorflow\\lib\\site-packages\\sklearn\\feature_selection\\univariate_selection.py:113: UserWarning: Features [ 7 10 11 13] are constant.\n",
      "  UserWarning)\n",
      "c:\\users\\dhiman\\anaconda3\\envs\\tensorflow\\lib\\site-packages\\sklearn\\feature_selection\\univariate_selection.py:114: RuntimeWarning: invalid value encountered in true_divide\n",
      "  f = msb / msw\n",
      "c:\\users\\dhiman\\anaconda3\\envs\\tensorflow\\lib\\site-packages\\sklearn\\utils\\validation.py:578: DataConversionWarning: A column-vector y was passed when a 1d array was expected. Please change the shape of y to (n_samples, ), for example using ravel().\n",
      "  y = column_or_1d(y, warn=True)\n"
     ]
    },
    {
     "name": "stderr",
     "output_type": "stream",
     "text": [
      "c:\\users\\dhiman\\anaconda3\\envs\\tensorflow\\lib\\site-packages\\sklearn\\feature_selection\\univariate_selection.py:113: UserWarning: Features [ 7 10 11 13] are constant.\n",
      "  UserWarning)\n",
      "c:\\users\\dhiman\\anaconda3\\envs\\tensorflow\\lib\\site-packages\\sklearn\\feature_selection\\univariate_selection.py:114: RuntimeWarning: invalid value encountered in true_divide\n",
      "  f = msb / msw\n",
      "c:\\users\\dhiman\\anaconda3\\envs\\tensorflow\\lib\\site-packages\\sklearn\\utils\\validation.py:578: DataConversionWarning: A column-vector y was passed when a 1d array was expected. Please change the shape of y to (n_samples, ), for example using ravel().\n",
      "  y = column_or_1d(y, warn=True)\n",
      "c:\\users\\dhiman\\anaconda3\\envs\\tensorflow\\lib\\site-packages\\sklearn\\feature_selection\\univariate_selection.py:113: UserWarning: Features [ 7 10 11 13] are constant.\n",
      "  UserWarning)\n",
      "c:\\users\\dhiman\\anaconda3\\envs\\tensorflow\\lib\\site-packages\\sklearn\\feature_selection\\univariate_selection.py:114: RuntimeWarning: invalid value encountered in true_divide\n",
      "  f = msb / msw\n",
      "c:\\users\\dhiman\\anaconda3\\envs\\tensorflow\\lib\\site-packages\\sklearn\\utils\\validation.py:578: DataConversionWarning: A column-vector y was passed when a 1d array was expected. Please change the shape of y to (n_samples, ), for example using ravel().\n",
      "  y = column_or_1d(y, warn=True)\n",
      "c:\\users\\dhiman\\anaconda3\\envs\\tensorflow\\lib\\site-packages\\sklearn\\feature_selection\\univariate_selection.py:113: UserWarning: Features [ 7 10 11 13] are constant.\n",
      "  UserWarning)\n",
      "c:\\users\\dhiman\\anaconda3\\envs\\tensorflow\\lib\\site-packages\\sklearn\\feature_selection\\univariate_selection.py:114: RuntimeWarning: invalid value encountered in true_divide\n",
      "  f = msb / msw\n"
     ]
    },
    {
     "name": "stdout",
     "output_type": "stream",
     "text": [
      "Best Accuracy: 0.8195652173913044\n",
      "Best Parameters: {'k_best__k': 11, 'clf__penalty': 'l1', 'clf__C': 0.1}\n",
      "Average Time to Fit (s): 0.006\n",
      "Average Time to Score (s): 0.0\n"
     ]
    },
    {
     "name": "stderr",
     "output_type": "stream",
     "text": [
      "c:\\users\\dhiman\\anaconda3\\envs\\tensorflow\\lib\\site-packages\\sklearn\\utils\\validation.py:578: DataConversionWarning: A column-vector y was passed when a 1d array was expected. Please change the shape of y to (n_samples, ), for example using ravel().\n",
      "  y = column_or_1d(y, warn=True)\n",
      "c:\\users\\dhiman\\anaconda3\\envs\\tensorflow\\lib\\site-packages\\sklearn\\feature_selection\\univariate_selection.py:113: UserWarning: Features [ 7 10 11 13] are constant.\n",
      "  UserWarning)\n",
      "c:\\users\\dhiman\\anaconda3\\envs\\tensorflow\\lib\\site-packages\\sklearn\\feature_selection\\univariate_selection.py:114: RuntimeWarning: invalid value encountered in true_divide\n",
      "  f = msb / msw\n",
      "c:\\users\\dhiman\\anaconda3\\envs\\tensorflow\\lib\\site-packages\\sklearn\\utils\\validation.py:578: DataConversionWarning: A column-vector y was passed when a 1d array was expected. Please change the shape of y to (n_samples, ), for example using ravel().\n",
      "  y = column_or_1d(y, warn=True)\n",
      "c:\\users\\dhiman\\anaconda3\\envs\\tensorflow\\lib\\site-packages\\sklearn\\feature_selection\\univariate_selection.py:113: UserWarning: Features [ 7 10 11 13] are constant.\n",
      "  UserWarning)\n",
      "c:\\users\\dhiman\\anaconda3\\envs\\tensorflow\\lib\\site-packages\\sklearn\\feature_selection\\univariate_selection.py:114: RuntimeWarning: invalid value encountered in true_divide\n",
      "  f = msb / msw\n",
      "c:\\users\\dhiman\\anaconda3\\envs\\tensorflow\\lib\\site-packages\\sklearn\\utils\\validation.py:578: DataConversionWarning: A column-vector y was passed when a 1d array was expected. Please change the shape of y to (n_samples, ), for example using ravel().\n",
      "  y = column_or_1d(y, warn=True)\n",
      "c:\\users\\dhiman\\anaconda3\\envs\\tensorflow\\lib\\site-packages\\sklearn\\feature_selection\\univariate_selection.py:113: UserWarning: Features [ 7 10 11 13] are constant.\n",
      "  UserWarning)\n",
      "c:\\users\\dhiman\\anaconda3\\envs\\tensorflow\\lib\\site-packages\\sklearn\\feature_selection\\univariate_selection.py:114: RuntimeWarning: invalid value encountered in true_divide\n",
      "  f = msb / msw\n",
      "c:\\users\\dhiman\\anaconda3\\envs\\tensorflow\\lib\\site-packages\\sklearn\\utils\\validation.py:578: DataConversionWarning: A column-vector y was passed when a 1d array was expected. Please change the shape of y to (n_samples, ), for example using ravel().\n",
      "  y = column_or_1d(y, warn=True)\n",
      "c:\\users\\dhiman\\anaconda3\\envs\\tensorflow\\lib\\site-packages\\sklearn\\feature_selection\\univariate_selection.py:113: UserWarning: Features [ 7 10 11 13] are constant.\n",
      "  UserWarning)\n",
      "c:\\users\\dhiman\\anaconda3\\envs\\tensorflow\\lib\\site-packages\\sklearn\\feature_selection\\univariate_selection.py:114: RuntimeWarning: invalid value encountered in true_divide\n",
      "  f = msb / msw\n",
      "c:\\users\\dhiman\\anaconda3\\envs\\tensorflow\\lib\\site-packages\\sklearn\\utils\\validation.py:578: DataConversionWarning: A column-vector y was passed when a 1d array was expected. Please change the shape of y to (n_samples, ), for example using ravel().\n",
      "  y = column_or_1d(y, warn=True)\n",
      "c:\\users\\dhiman\\anaconda3\\envs\\tensorflow\\lib\\site-packages\\sklearn\\feature_selection\\univariate_selection.py:113: UserWarning: Features [ 7 10 11 13] are constant.\n",
      "  UserWarning)\n",
      "c:\\users\\dhiman\\anaconda3\\envs\\tensorflow\\lib\\site-packages\\sklearn\\feature_selection\\univariate_selection.py:114: RuntimeWarning: invalid value encountered in true_divide\n",
      "  f = msb / msw\n",
      "c:\\users\\dhiman\\anaconda3\\envs\\tensorflow\\lib\\site-packages\\sklearn\\model_selection\\_validation.py:479: FitFailedWarning: Classifier fit failed. The score on this train-test partition for these parameters will be set to 0.000000. Details: \n",
      "ValueError(\"k should be >=0, <= n_features; got 22.Use k='all' to return all features.\",)\n",
      "  \"Details: \\n%r\" % (error_score, e), FitFailedWarning)\n",
      "c:\\users\\dhiman\\anaconda3\\envs\\tensorflow\\lib\\site-packages\\sklearn\\model_selection\\_validation.py:479: FitFailedWarning: Classifier fit failed. The score on this train-test partition for these parameters will be set to 0.000000. Details: \n",
      "ValueError(\"k should be >=0, <= n_features; got 22.Use k='all' to return all features.\",)\n",
      "  \"Details: \\n%r\" % (error_score, e), FitFailedWarning)\n",
      "c:\\users\\dhiman\\anaconda3\\envs\\tensorflow\\lib\\site-packages\\sklearn\\model_selection\\_validation.py:479: FitFailedWarning: Classifier fit failed. The score on this train-test partition for these parameters will be set to 0.000000. Details: \n",
      "ValueError(\"k should be >=0, <= n_features; got 22.Use k='all' to return all features.\",)\n",
      "  \"Details: \\n%r\" % (error_score, e), FitFailedWarning)\n",
      "c:\\users\\dhiman\\anaconda3\\envs\\tensorflow\\lib\\site-packages\\sklearn\\model_selection\\_validation.py:479: FitFailedWarning: Classifier fit failed. The score on this train-test partition for these parameters will be set to 0.000000. Details: \n",
      "ValueError(\"k should be >=0, <= n_features; got 22.Use k='all' to return all features.\",)\n",
      "  \"Details: \\n%r\" % (error_score, e), FitFailedWarning)\n",
      "c:\\users\\dhiman\\anaconda3\\envs\\tensorflow\\lib\\site-packages\\sklearn\\model_selection\\_validation.py:479: FitFailedWarning: Classifier fit failed. The score on this train-test partition for these parameters will be set to 0.000000. Details: \n",
      "ValueError(\"k should be >=0, <= n_features; got 22.Use k='all' to return all features.\",)\n",
      "  \"Details: \\n%r\" % (error_score, e), FitFailedWarning)\n",
      "[Parallel(n_jobs=1)]: Done  40 out of  40 | elapsed:    0.2s finished\n",
      "c:\\users\\dhiman\\anaconda3\\envs\\tensorflow\\lib\\site-packages\\sklearn\\utils\\validation.py:578: DataConversionWarning: A column-vector y was passed when a 1d array was expected. Please change the shape of y to (n_samples, ), for example using ravel().\n",
      "  y = column_or_1d(y, warn=True)\n",
      "c:\\users\\dhiman\\anaconda3\\envs\\tensorflow\\lib\\site-packages\\sklearn\\feature_selection\\univariate_selection.py:113: UserWarning: Features [ 7 10 11 13] are constant.\n",
      "  UserWarning)\n",
      "c:\\users\\dhiman\\anaconda3\\envs\\tensorflow\\lib\\site-packages\\sklearn\\feature_selection\\univariate_selection.py:114: RuntimeWarning: invalid value encountered in true_divide\n",
      "  f = msb / msw\n"
     ]
    }
   ],
   "source": [
    "k_best = SelectKBest(f_classif)\n",
    "\n",
    "# Make a new pipeline with SelectKBest\n",
    "select_k_pipe = Pipeline([('k_best', k_best), \n",
    "                          ('clf', lr)])\n",
    "\n",
    "select_k_best_pipe_params = copy.deepcopy(lr_params)\n",
    "\n",
    "select_k_best_pipe_params.update({'k_best__k':list(range(1,23))+['all'],  # the 'all' literally does nothing to subset\n",
    "                                 })\n",
    "print(select_k_best_pipe_params)\n",
    "# comparable to our results with correlationchooser\n",
    "get_best_model_and_accuracy(select_k_pipe, cv,select_k_best_pipe_params, X_transformed, Y_transformed)"
   ]
  },
  {
   "cell_type": "code",
   "execution_count": 41,
   "metadata": {},
   "outputs": [],
   "source": [
    "k_best = SelectKBest(f_classif, k=11)\n"
   ]
  },
  {
   "cell_type": "code",
   "execution_count": 42,
   "metadata": {
    "scrolled": true
   },
   "outputs": [
    {
     "name": "stdout",
     "output_type": "stream",
     "text": [
      "Fitting 5 folds for each of 8 candidates, totalling 40 fits\n",
      "Best Accuracy: 0.8217391304347826\n",
      "Best Parameters: {'clf__penalty': 'l2', 'clf__C': 1.0}\n",
      "Average Time to Fit (s): 0.024\n",
      "Average Time to Score (s): 0.013\n"
     ]
    },
    {
     "name": "stderr",
     "output_type": "stream",
     "text": [
      "[Parallel(n_jobs=1)]: Done  40 out of  40 | elapsed:    1.4s finished\n"
     ]
    }
   ],
   "source": [
    "pipe=build_pipe(LogisticRegression(random_state=seed))\n",
    "get_best_model_and_accuracy(pipe,cv, lr_params, X_train, y_train)"
   ]
  },
  {
   "cell_type": "code",
   "execution_count": 43,
   "metadata": {},
   "outputs": [],
   "source": [
    "pipe=build_pipe(SVC(random_state=seed))\n",
    "#get_best_model_and_accuracy(pipe,cv, svc_params, X_train, y_train)"
   ]
  },
  {
   "cell_type": "code",
   "execution_count": 44,
   "metadata": {},
   "outputs": [],
   "source": [
    "pipe=build_pipe(DecisionTreeClassifier(random_state=seed))\n",
    "#get_best_model_and_accuracy(pipe,cv, tree_params, X_train, y_train)"
   ]
  },
  {
   "cell_type": "code",
   "execution_count": 45,
   "metadata": {},
   "outputs": [],
   "source": [
    "pipe=build_pipe(RandomForestClassifier(random_state=seed))\n",
    "#get_best_model_and_accuracy(pipe,cv, forest_params, X_train, y_train)"
   ]
  },
  {
   "cell_type": "code",
   "execution_count": 69,
   "metadata": {},
   "outputs": [],
   "source": [
    "# scikit-learn's version of PCA\n",
    "from sklearn.decomposition import PCA\n",
    "# Like any other sklearn module, we first instantiate the class\n",
    "pca = PCA(n_components=3)"
   ]
  },
  {
   "cell_type": "code",
   "execution_count": 47,
   "metadata": {},
   "outputs": [
    {
     "data": {
      "text/plain": [
       "PCA(copy=True, iterated_power='auto', n_components=10, random_state=None,\n",
       "  svd_solver='auto', tol=0.0, whiten=False)"
      ]
     },
     "execution_count": 47,
     "metadata": {},
     "output_type": "execute_result"
    }
   ],
   "source": [
    "# fit the PCA to our data\n",
    "pca.fit(X_transformed)"
   ]
  },
  {
   "cell_type": "code",
   "execution_count": 48,
   "metadata": {},
   "outputs": [
    {
     "data": {
      "text/plain": [
       "array([[ 6.86858275e-01,  6.45123937e-02,  7.09353472e-01,\n",
       "        -2.78745523e-02, -3.58610360e-04, -3.54382945e-02,\n",
       "         3.54382945e-02,  0.00000000e+00, -5.80310720e-02,\n",
       "         6.49804422e-02,  0.00000000e+00,  0.00000000e+00,\n",
       "        -4.91189210e-02, -3.94430453e-31,  1.06552886e-02,\n",
       "         2.85548614e-03, -7.18273121e-02,  1.79609365e-02,\n",
       "         1.05674110e-02,  4.32989645e-02],\n",
       "       [-2.01487924e-01,  7.92026776e-01,  8.96718544e-02,\n",
       "        -5.58644585e-01,  1.66512603e-03, -4.36400619e-02,\n",
       "         4.36400619e-02, -0.00000000e+00, -5.40863628e-02,\n",
       "        -7.75069326e-03,  1.05879118e-22, -1.65436123e-24,\n",
       "         1.71238958e-02, -4.03896783e-28,  1.37082798e-02,\n",
       "        -5.35606656e-02, -2.62170897e-02, -1.30295630e-03,\n",
       "        -5.69118416e-03,  3.32112301e-02],\n",
       "       [-2.10708295e-01,  5.03319130e-01,  1.96338545e-01,\n",
       "         8.07456938e-01,  1.86611322e-02,  1.25313567e-02,\n",
       "        -1.25313567e-02, -0.00000000e+00,  2.39538875e-02,\n",
       "         4.49301330e-02, -0.00000000e+00,  6.61744490e-24,\n",
       "         5.59384439e-03,  1.61558713e-27, -1.28941025e-03,\n",
       "         5.99288863e-02,  5.16206122e-02, -4.43490370e-02,\n",
       "         6.34260659e-03, -1.36141818e-02],\n",
       "       [ 4.52153936e-01,  2.28749153e-01, -3.44949062e-01,\n",
       "        -5.86163177e-03, -4.31663281e-03,  2.65386754e-01,\n",
       "        -2.65386754e-01,  6.93889390e-18,  4.23349035e-01,\n",
       "         6.52039663e-02,  5.42101086e-20,  0.00000000e+00,\n",
       "         7.82840657e-03,  0.00000000e+00, -5.94273303e-02,\n",
       "         5.06286865e-02,  4.56544016e-01, -1.55910695e-01,\n",
       "        -2.39099086e-01, -6.15342356e-02],\n",
       "       [ 4.69991903e-01,  2.23553225e-01, -5.45168655e-01,\n",
       "         1.70761204e-01, -4.21669750e-02, -3.00931986e-01,\n",
       "         3.00931986e-01,  0.00000000e+00, -2.97842278e-01,\n",
       "        -7.69437223e-02,  0.00000000e+00, -5.42101086e-20,\n",
       "         1.83790064e-02,  2.11758237e-22,  1.44425740e-01,\n",
       "        -1.86013428e-01, -2.24067879e-01,  6.04139428e-02,\n",
       "         1.14915035e-01,  4.87389014e-02],\n",
       "       [-9.82514596e-02, -7.33653045e-02,  1.43419343e-01,\n",
       "         1.89670547e-02, -2.35809626e-02, -4.62805374e-02,\n",
       "         4.62805374e-02,  1.11022302e-16,  1.36297162e-01,\n",
       "        -9.27494271e-02,  0.00000000e+00, -8.67361738e-19,\n",
       "         2.17315073e-02,  0.00000000e+00,  6.18140845e-01,\n",
       "        -6.83454771e-01,  2.43328505e-01, -1.02534223e-01,\n",
       "        -1.07151633e-01, -3.36426492e-02],\n",
       "       [ 5.88327642e-02,  7.73969608e-02, -6.97592213e-02,\n",
       "         4.01555908e-02, -1.84023844e-02,  4.61470498e-01,\n",
       "        -4.61470498e-01, -1.11022302e-16,  1.54406062e-01,\n",
       "        -8.88124179e-02, -1.38777878e-17, -1.73472348e-18,\n",
       "        -2.79600336e-02,  0.00000000e+00,  1.40736343e-01,\n",
       "        -2.03492496e-01, -5.61557396e-01,  3.41577232e-01,\n",
       "         1.72747555e-01,  4.72326096e-02],\n",
       "       [ 3.48069118e-02,  1.39465591e-02,  4.84807952e-02,\n",
       "         4.12081310e-03, -2.50053071e-01,  1.19546862e-01,\n",
       "        -1.19546862e-01, -5.55111512e-17, -1.64810240e-01,\n",
       "        -8.31706365e-01, -1.66533454e-16,  5.55111512e-17,\n",
       "        -2.93197800e-02, -0.00000000e+00,  5.33925171e-02,\n",
       "         1.78270158e-01,  9.90798141e-02, -3.28450412e-01,\n",
       "         1.72679656e-01,  5.66909424e-02],\n",
       "       [-2.10361714e-02,  1.05522919e-02,  4.00187944e-02,\n",
       "         3.57951484e-02, -1.37377668e-01, -1.65397432e-01,\n",
       "         1.65397432e-01,  5.55111512e-17,  1.97254567e-01,\n",
       "        -3.86284214e-01, -2.49800181e-16, -0.00000000e+00,\n",
       "        -1.04434666e-01,  2.77555756e-17, -5.59007134e-02,\n",
       "         7.55788816e-02, -1.45248320e-02,  5.92172682e-01,\n",
       "        -6.02982799e-01,  2.53349489e-02],\n",
       "       [-1.54879529e-02,  5.15097226e-03,  1.78842751e-02,\n",
       "        -1.19136486e-02, -2.02371808e-01, -2.68043535e-01,\n",
       "         2.68043535e-01,  1.38777878e-16,  7.47271615e-01,\n",
       "        -5.64390331e-02,  4.44089210e-16, -1.66533454e-16,\n",
       "        -1.75580646e-01,  0.00000000e+00, -1.22687737e-01,\n",
       "        -2.41273239e-02, -2.22896785e-01, -1.62881755e-01,\n",
       "         3.60122042e-01,  2.56564974e-02]])"
      ]
     },
     "execution_count": 48,
     "metadata": {},
     "output_type": "execute_result"
    }
   ],
   "source": [
    "pca.components_"
   ]
  },
  {
   "cell_type": "code",
   "execution_count": 49,
   "metadata": {},
   "outputs": [
    {
     "data": {
      "text/plain": [
       "array([0.25917343, 0.18669526, 0.16432533, 0.07761905, 0.06237655,\n",
       "       0.05671428, 0.0433042 , 0.02862295, 0.02683765, 0.02281918])"
      ]
     },
     "execution_count": 49,
     "metadata": {},
     "output_type": "execute_result"
    }
   ],
   "source": [
    "pca.explained_variance_ratio_"
   ]
  },
  {
   "cell_type": "code",
   "execution_count": 70,
   "metadata": {},
   "outputs": [
    {
     "data": {
      "text/plain": [
       "PCA(copy=True, iterated_power='auto', n_components=3, random_state=None,\n",
       "  svd_solver='auto', tol=0.0, whiten=False)"
      ]
     },
     "execution_count": 70,
     "metadata": {},
     "output_type": "execute_result"
    }
   ],
   "source": [
    "# fit the PCA to our data\n",
    "pca.fit(X_select)"
   ]
  },
  {
   "cell_type": "code",
   "execution_count": 71,
   "metadata": {},
   "outputs": [
    {
     "data": {
      "text/plain": [
       "array([0.58764436, 0.2232753 , 0.18908033])"
      ]
     },
     "execution_count": 71,
     "metadata": {},
     "output_type": "execute_result"
    }
   ],
   "source": [
    "pca.explained_variance_ratio_"
   ]
  },
  {
   "cell_type": "code",
   "execution_count": 72,
   "metadata": {},
   "outputs": [],
   "source": [
    "pca.fit(X_select)\n",
    "\n",
    "X_train_pca = pca.transform(X_select)\n",
    "#X_test_pca = pca.transform(X_test)"
   ]
  },
  {
   "cell_type": "code",
   "execution_count": 73,
   "metadata": {},
   "outputs": [
    {
     "name": "stderr",
     "output_type": "stream",
     "text": [
      "c:\\users\\dhiman\\anaconda3\\envs\\tensorflow\\lib\\site-packages\\sklearn\\utils\\validation.py:578: DataConversionWarning: A column-vector y was passed when a 1d array was expected. Please change the shape of y to (n_samples, ), for example using ravel().\n",
      "  y = column_or_1d(y, warn=True)\n",
      "c:\\users\\dhiman\\anaconda3\\envs\\tensorflow\\lib\\site-packages\\sklearn\\utils\\validation.py:578: DataConversionWarning: A column-vector y was passed when a 1d array was expected. Please change the shape of y to (n_samples, ), for example using ravel().\n",
      "  y = column_or_1d(y, warn=True)\n",
      "c:\\users\\dhiman\\anaconda3\\envs\\tensorflow\\lib\\site-packages\\sklearn\\utils\\validation.py:578: DataConversionWarning: A column-vector y was passed when a 1d array was expected. Please change the shape of y to (n_samples, ), for example using ravel().\n",
      "  y = column_or_1d(y, warn=True)\n",
      "c:\\users\\dhiman\\anaconda3\\envs\\tensorflow\\lib\\site-packages\\sklearn\\utils\\validation.py:578: DataConversionWarning: A column-vector y was passed when a 1d array was expected. Please change the shape of y to (n_samples, ), for example using ravel().\n",
      "  y = column_or_1d(y, warn=True)\n",
      "c:\\users\\dhiman\\anaconda3\\envs\\tensorflow\\lib\\site-packages\\sklearn\\utils\\validation.py:578: DataConversionWarning: A column-vector y was passed when a 1d array was expected. Please change the shape of y to (n_samples, ), for example using ravel().\n",
      "  y = column_or_1d(y, warn=True)\n"
     ]
    },
    {
     "data": {
      "text/plain": [
       "0.8195652173913043"
      ]
     },
     "execution_count": 73,
     "metadata": {},
     "output_type": "execute_result"
    }
   ],
   "source": [
    "# Fitting a logistic regression with CV\n",
    "(cross_val_score(LogisticRegression(random_state=seed), \n",
    "                X=X_train_pca, y=Y_transformed, cv=cv, scoring='accuracy')).mean()"
   ]
  },
  {
   "cell_type": "code",
   "execution_count": 50,
   "metadata": {},
   "outputs": [],
   "source": [
    "from sklearn.discriminant_analysis import LinearDiscriminantAnalysis\n",
    "lda = LinearDiscriminantAnalysis(n_components=2)"
   ]
  },
  {
   "cell_type": "code",
   "execution_count": 51,
   "metadata": {},
   "outputs": [
    {
     "name": "stderr",
     "output_type": "stream",
     "text": [
      "c:\\users\\dhiman\\anaconda3\\envs\\tensorflow\\lib\\site-packages\\sklearn\\discriminant_analysis.py:388: UserWarning: Variables are collinear.\n",
      "  warnings.warn(\"Variables are collinear.\")\n"
     ]
    }
   ],
   "source": [
    "X_lda_loan = lda.fit(X_transformed,Y_transformed.values.ravel())"
   ]
  },
  {
   "cell_type": "code",
   "execution_count": 52,
   "metadata": {},
   "outputs": [
    {
     "data": {
      "text/plain": [
       "array([1.])"
      ]
     },
     "execution_count": 52,
     "metadata": {},
     "output_type": "execute_result"
    }
   ],
   "source": [
    "lda.explained_variance_ratio_"
   ]
  },
  {
   "cell_type": "code",
   "execution_count": 53,
   "metadata": {},
   "outputs": [
    {
     "data": {
      "text/plain": [
       "array([[ 5.21704407e-02],\n",
       "       [-1.62969019e-01],\n",
       "       [-8.67289910e-02],\n",
       "       [-4.43179217e-02],\n",
       "       [ 3.22729633e+00],\n",
       "       [ 4.44681078e-02],\n",
       "       [-4.44681078e-02],\n",
       "       [ 4.10340191e-17],\n",
       "       [-4.94750279e-01],\n",
       "       [ 2.00907012e-01],\n",
       "       [ 3.70769262e-17],\n",
       "       [-1.30336505e-16],\n",
       "       [ 1.18339743e-01],\n",
       "       [ 6.02532332e-17],\n",
       "       [-2.47640973e-01],\n",
       "       [ 3.05872021e-01],\n",
       "       [ 9.72384263e-02],\n",
       "       [-3.14924722e-01],\n",
       "       [ 1.22440872e-01],\n",
       "       [ 3.90855303e-02]])"
      ]
     },
     "execution_count": 53,
     "metadata": {},
     "output_type": "execute_result"
    }
   ],
   "source": [
    "lda.scalings_  "
   ]
  },
  {
   "cell_type": "code",
   "execution_count": 54,
   "metadata": {},
   "outputs": [
    {
     "ename": "NameError",
     "evalue": "name 'df' is not defined",
     "output_type": "error",
     "traceback": [
      "\u001b[1;31m---------------------------------------------------------------------------\u001b[0m",
      "\u001b[1;31mNameError\u001b[0m                                 Traceback (most recent call last)",
      "\u001b[1;32m<ipython-input-54-793aaa8db41d>\u001b[0m in \u001b[0;36m<module>\u001b[1;34m()\u001b[0m\n\u001b[1;32m----> 1\u001b[1;33m \u001b[0mdf\u001b[0m\u001b[1;33m.\u001b[0m\u001b[0mboxplot\u001b[0m\u001b[1;33m(\u001b[0m\u001b[0mcolumn\u001b[0m\u001b[1;33m=\u001b[0m\u001b[1;34m'ApplicantIncome'\u001b[0m\u001b[1;33m,\u001b[0m \u001b[0mby\u001b[0m \u001b[1;33m=\u001b[0m \u001b[1;34m'Gender'\u001b[0m\u001b[1;33m)\u001b[0m\u001b[1;33m\u001b[0m\u001b[0m\n\u001b[0m",
      "\u001b[1;31mNameError\u001b[0m: name 'df' is not defined"
     ]
    }
   ],
   "source": [
    "df.boxplot(column='ApplicantIncome', by = 'Gender')"
   ]
  },
  {
   "cell_type": "code",
   "execution_count": null,
   "metadata": {},
   "outputs": [],
   "source": [
    "df['LoanAmount'].hist(bins=50)"
   ]
  },
  {
   "cell_type": "code",
   "execution_count": null,
   "metadata": {},
   "outputs": [],
   "source": [
    "df.boxplot(column='LoanAmount')"
   ]
  },
  {
   "cell_type": "code",
   "execution_count": null,
   "metadata": {},
   "outputs": [],
   "source": [
    "temp1 = df['Credit_History'].value_counts(ascending=True)\n",
    "temp2 = df.pivot_table(values='Loan_Status',index=['Credit_History'],aggfunc=lambda x: x.map({'Y':1,'N':0}).mean())\n",
    "print('Frequency Table for Credit History:') \n",
    "print (temp1)\n",
    "\n",
    "print ('\\nProbility of getting loan for each Credit History class:') \n",
    "print (temp2)\n",
    "\n",
    "\n"
   ]
  },
  {
   "cell_type": "code",
   "execution_count": null,
   "metadata": {},
   "outputs": [],
   "source": [
    "fig = plt.figure(figsize=(8,4))\n",
    "ax1 = fig.add_subplot(121)\n",
    "ax1.set_xlabel('Credit_History')\n",
    "ax1.set_ylabel('Count of Applicants')\n",
    "ax1.set_title(\"Applicants by Credit_History\")\n",
    "temp1.plot(kind='bar')\n",
    "\n",
    "ax2 = fig.add_subplot(122)\n",
    "\n",
    "ax2.set_xlabel('Credit_History')\n",
    "ax2.set_ylabel('Probability of getting loan')\n",
    "ax2.set_title(\"Probability of getting loan by credit history\")\n",
    "temp2.plot(kind = 'bar')"
   ]
  },
  {
   "cell_type": "code",
   "execution_count": null,
   "metadata": {},
   "outputs": [],
   "source": [
    "temp3 = pd.crosstab(df['Credit_History'], df['Loan_Status'])\n",
    "temp3.plot(kind='bar', stacked=True, color=['red','blue'], grid=False)"
   ]
  },
  {
   "cell_type": "code",
   "execution_count": null,
   "metadata": {},
   "outputs": [],
   "source": [
    "\n",
    "\n",
    "temp4 = df.pivot_table(values='Loan_Status',index=['Credit_History','Gender'],aggfunc=lambda x: x.map({'Y':1,'N':0}).mean())\n",
    "#print(temp4)\n",
    "temp4.plot(kind = 'bar')\n",
    "temp4 = pd.crosstab(df['Credit_History'], df['Gender'])\n",
    "temp4.plot(kind='bar', stacked=True, color=['red','blue'], grid=False)\n"
   ]
  },
  {
   "cell_type": "code",
   "execution_count": null,
   "metadata": {},
   "outputs": [],
   "source": [
    "#find missing values\n",
    "df.apply(lambda x: sum(x.isnull()),axis=0) "
   ]
  },
  {
   "cell_type": "code",
   "execution_count": null,
   "metadata": {},
   "outputs": [],
   "source": [
    "df['Dependents'].value_counts()"
   ]
  },
  {
   "cell_type": "code",
   "execution_count": null,
   "metadata": {},
   "outputs": [],
   "source": [
    "df['Loan_Amount_Term'].value_counts()"
   ]
  },
  {
   "cell_type": "code",
   "execution_count": null,
   "metadata": {},
   "outputs": [],
   "source": [
    "df['Credit_History'].value_counts()"
   ]
  },
  {
   "cell_type": "code",
   "execution_count": null,
   "metadata": {},
   "outputs": [],
   "source": [
    "#Impute missing values of non numeric variables :Gender, Married, Dependents, Loan_Amount_Term, Credit_History\n",
    "\n",
    "df['Gender'].fillna(mode(df['Gender'].dropna(axis=0, how='any')).mode[0], inplace=True)\n",
    "df['Married'].fillna(mode(df['Married'].dropna(axis=0, how='any')).mode[0], inplace=True)\n",
    "df['Self_Employed'].fillna(mode(df['Self_Employed'].dropna(axis=0, how='any')).mode[0], inplace=True)\n",
    "df['Dependents'].fillna(mode(df['Dependents'].dropna(axis=0, how='any')).mode[0], inplace=True)\n",
    "df['Loan_Amount_Term'].fillna(mode(df['Loan_Amount_Term'].dropna(axis=0, how='any')).mode[0], inplace=True)\n",
    "df['Credit_History'].fillna(mode(df['Credit_History'].dropna(axis=0, how='any')).mode[0], inplace=True)"
   ]
  },
  {
   "cell_type": "code",
   "execution_count": null,
   "metadata": {},
   "outputs": [],
   "source": [
    "#Impute missing values of LoanAmount\n",
    "table = df.pivot_table(values='LoanAmount', index='Self_Employed' ,columns='Education', aggfunc=np.median)\n",
    "# Define function to return value of this pivot_table\n",
    "def fage(x):\n",
    " return table.loc[x['Self_Employed'],x['Education']]\n",
    "\n",
    "# Replace missing values\n",
    "df['LoanAmount'].fillna(df[df['LoanAmount'].isnull()].apply(fage, axis=1), inplace=True)"
   ]
  },
  {
   "cell_type": "code",
   "execution_count": null,
   "metadata": {},
   "outputs": [],
   "source": [
    "df['LoanAmount'].hist(bins=20)"
   ]
  },
  {
   "cell_type": "code",
   "execution_count": null,
   "metadata": {},
   "outputs": [],
   "source": [
    " df['LoanAmount_log'] = np.log(df['LoanAmount'])\n",
    "df['LoanAmount_log'].hist(bins=20)"
   ]
  },
  {
   "cell_type": "code",
   "execution_count": null,
   "metadata": {},
   "outputs": [],
   "source": [
    "df['CoapplicantIncome'].hist(bins=20)"
   ]
  },
  {
   "cell_type": "code",
   "execution_count": null,
   "metadata": {},
   "outputs": [],
   "source": [
    "df['TotalIncome'] = df['ApplicantIncome'] + df['CoapplicantIncome']\n",
    "df['TotalIncome_log'] = np.log(df['TotalIncome'])\n",
    "#df['TotalIncome_log'].hist(bins=20) \n",
    "df = df.reset_index()"
   ]
  },
  {
   "cell_type": "code",
   "execution_count": null,
   "metadata": {},
   "outputs": [],
   "source": [
    "#Convert categorical data to numeric data\n",
    "var_mod = ['Gender','Married','Dependents','Education','Self_Employed','Property_Area','Loan_Status']\n",
    "le = LabelEncoder()\n",
    "for i in var_mod:\n",
    "    df[i] = le.fit_transform(df[i])\n",
    "df.dtypes \n"
   ]
  },
  {
   "cell_type": "code",
   "execution_count": null,
   "metadata": {},
   "outputs": [],
   "source": [
    "df.head()"
   ]
  },
  {
   "cell_type": "code",
   "execution_count": null,
   "metadata": {},
   "outputs": [],
   "source": [
    "#Generic function for making a classification model and accessing performance:\n",
    "def classification_model(model, data, predictors, outcome):\n",
    "  #Fit the model:\n",
    "  model.fit(data[predictors],data[outcome])\n",
    "  \n",
    "  #Make predictions on training set:\n",
    "  predictions = model.predict(data[predictors])\n",
    "  \n",
    "  #Print accuracy\n",
    "  accuracy = metrics.accuracy_score(predictions,data[outcome])\n",
    "  print(\"Accuracy : %s\" % \"{0:.3%}\".format(accuracy))\n",
    "\n",
    "  #Perform k-fold cross-validation with 5 folds\n",
    "  kf = KFold(data.shape[0], n_folds=5)\n",
    "  error = []\n",
    "  for train, test in kf:\n",
    "    # Filter training data\n",
    "    train_predictors = (data[predictors].iloc[train,:])\n",
    "    \n",
    "    # The target we're using to train the algorithm.\n",
    "    train_target = data[outcome].iloc[train]\n",
    "    \n",
    "    # Training the algorithm using the predictors and target.\n",
    "    model.fit(train_predictors, train_target)\n",
    "    \n",
    "    #Record error from each cross-validation run\n",
    "    error.append(model.score(data[predictors].iloc[test,:], data[outcome].iloc[test]))\n",
    " \n",
    "  print (\"Cross-Validation Score : %s\" % \"{0:.3%}\".format(np.mean(error)))\n",
    "\n",
    "  #Fit the model again so that it can be refered outside the function:\n",
    "  model.fit(data[predictors],data[outcome]) "
   ]
  },
  {
   "cell_type": "code",
   "execution_count": null,
   "metadata": {},
   "outputs": [],
   "source": [
    "outcome_var = 'Loan_Status'\n",
    "model = LogisticRegression()\n",
    "predictor_var = ['Credit_History']\n",
    "classification_model(model, df,predictor_var,outcome_var)"
   ]
  },
  {
   "cell_type": "code",
   "execution_count": null,
   "metadata": {},
   "outputs": [],
   "source": [
    "#We can try different combination of variables:\n",
    "predictor_var = ['Credit_History','Education','Married','Self_Employed','Property_Area']\n",
    "classification_model(model, df,predictor_var,outcome_var)"
   ]
  },
  {
   "cell_type": "code",
   "execution_count": null,
   "metadata": {},
   "outputs": [],
   "source": [
    "#We can try different combination of variables:\n",
    "predictor_var = ['Credit_History','Education','Married','Self_Employed','Property_Area','LoanAmount_log','TotalIncome_log']\n",
    "classification_model(model, df,predictor_var,outcome_var)"
   ]
  },
  {
   "cell_type": "code",
   "execution_count": null,
   "metadata": {},
   "outputs": [],
   "source": [
    "#We can try different combination of variables:\n",
    "predictor_var = ['Credit_History','Education','Married','Self_Employed','Property_Area','LoanAmount','TotalIncome']\n",
    "classification_model(model, df,predictor_var,outcome_var)"
   ]
  },
  {
   "cell_type": "code",
   "execution_count": null,
   "metadata": {},
   "outputs": [],
   "source": [
    "#Generally we expect the accuracy to increase on adding variables. But this is a more challenging case. The accuracy and cross-validation score are not getting impacted by less important variables. Credit_History is dominating the mode. We have two options now:\n",
    "#   Feature Engineering: dereive new information and try to predict those. I will leave this to your creativity.\n",
    "#    Better modeling techniques. Let’s explore this next."
   ]
  },
  {
   "cell_type": "code",
   "execution_count": null,
   "metadata": {},
   "outputs": [],
   "source": [
    "model = DecisionTreeClassifier()\n",
    "predictor_var = ['Credit_History','Gender','Married','Education']\n",
    "classification_model(model, df,predictor_var,outcome_var)"
   ]
  },
  {
   "cell_type": "code",
   "execution_count": null,
   "metadata": {},
   "outputs": [],
   "source": [
    "#We can try different combination of variables:\n",
    "predictor_var = ['Credit_History','Loan_Amount_Term','LoanAmount_log']\n",
    "classification_model(model, df,predictor_var,outcome_var)"
   ]
  },
  {
   "cell_type": "code",
   "execution_count": null,
   "metadata": {},
   "outputs": [],
   "source": [
    "#An advantage with Random Forest is that we can make it work with all the features \n",
    "#and it returns a feature importance matrix which can be used to select features.\n",
    "model = RandomForestClassifier(n_estimators=100)\n",
    "predictor_var = ['Gender', 'Married', 'Dependents', 'Education',\n",
    "       'Self_Employed', 'Loan_Amount_Term', 'Credit_History', 'Property_Area',\n",
    "        'LoanAmount_log','TotalIncome_log']\n",
    "classification_model(model, df,predictor_var,outcome_var)"
   ]
  },
  {
   "cell_type": "code",
   "execution_count": null,
   "metadata": {},
   "outputs": [],
   "source": [
    "#Here we see that the accuracy is 100% for the training set. This is the ultimate case of overfitting and can be resolved in two ways:\n",
    "#    Reducing the number of predictors\n",
    "#    Tuning the model parameters\n",
    "#Let’s try both of these. First we see the feature importance matrix from which we’ll take the most important features."
   ]
  },
  {
   "cell_type": "code",
   "execution_count": null,
   "metadata": {},
   "outputs": [],
   "source": [
    "#Create a series with feature importances:\n",
    "featimp = pd.Series(model.feature_importances_, index=predictor_var).sort_values(ascending=False)\n",
    "print(featimp)"
   ]
  },
  {
   "cell_type": "code",
   "execution_count": null,
   "metadata": {},
   "outputs": [],
   "source": [
    "model = RandomForestClassifier(n_estimators=25, min_samples_split=25, max_depth=7, max_features=1)\n",
    "predictor_var = ['TotalIncome_log','LoanAmount_log','Credit_History','Dependents','Property_Area']\n",
    "classification_model(model, df,predictor_var,outcome_var)"
   ]
  },
  {
   "cell_type": "code",
   "execution_count": null,
   "metadata": {},
   "outputs": [],
   "source": [
    "''' This exercise gives us some very interesting and unique learning:\n",
    "\n",
    "#    Using a more sophisticated model does not guarantee better results.\n",
    "#    Avoid using complex modeling techniques as a black box without understanding the underlying concepts. Doing so would increase the tendency of overfitting thus making your models less interpretable\n",
    "#    Feature Engineering is the key to success. Everyone can use an Xgboost models but the real art \n",
    "     and creativity lies in enhancing your features to better suit the model.\n",
    "'''"
   ]
  }
 ],
 "metadata": {
  "kernelspec": {
   "display_name": "Python 3",
   "language": "python",
   "name": "python3"
  },
  "language_info": {
   "codemirror_mode": {
    "name": "ipython",
    "version": 3
   },
   "file_extension": ".py",
   "mimetype": "text/x-python",
   "name": "python",
   "nbconvert_exporter": "python",
   "pygments_lexer": "ipython3",
   "version": "3.6.4"
  }
 },
 "nbformat": 4,
 "nbformat_minor": 2
}
