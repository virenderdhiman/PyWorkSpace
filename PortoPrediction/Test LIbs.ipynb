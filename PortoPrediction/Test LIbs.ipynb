{
 "cells": [
  {
   "cell_type": "code",
   "execution_count": 2,
   "metadata": {},
   "outputs": [
    {
     "data": {
      "text/plain": [
       "['',\n",
       " 'c:\\\\users\\\\dhiman\\\\anaconda3\\\\envs\\\\tensorflow\\\\python36.zip',\n",
       " 'c:\\\\users\\\\dhiman\\\\anaconda3\\\\envs\\\\tensorflow\\\\DLLs',\n",
       " 'c:\\\\users\\\\dhiman\\\\anaconda3\\\\envs\\\\tensorflow\\\\lib',\n",
       " 'c:\\\\users\\\\dhiman\\\\anaconda3\\\\envs\\\\tensorflow',\n",
       " 'c:\\\\users\\\\dhiman\\\\anaconda3\\\\envs\\\\tensorflow\\\\lib\\\\site-packages',\n",
       " 'c:\\\\users\\\\dhiman\\\\anaconda3\\\\envs\\\\tensorflow\\\\lib\\\\site-packages\\\\IPython\\\\extensions',\n",
       " 'C:\\\\Users\\\\dhiman\\\\.ipython']"
      ]
     },
     "execution_count": 2,
     "metadata": {},
     "output_type": "execute_result"
    }
   ],
   "source": [
    "import sys\n",
    "sys.executable \n",
    "sys.path\n",
    "\n",
    "\n"
   ]
  },
  {
   "cell_type": "code",
   "execution_count": 1,
   "metadata": {},
   "outputs": [
    {
     "name": "stdout",
     "output_type": "stream",
     "text": [
      "b'Hello, TensorFlow!'\n"
     ]
    }
   ],
   "source": [
    "import tensorflow as tf\n",
    "hello = tf.constant('Hello, TensorFlow!')\n",
    "sess = tf.Session()\n",
    "print(sess.run(hello))"
   ]
  }
 ],
 "metadata": {
  "kernelspec": {
   "display_name": "Python 3",
   "language": "python",
   "name": "python3"
  },
  "language_info": {
   "codemirror_mode": {
    "name": "ipython",
    "version": 3
   },
   "file_extension": ".py",
   "mimetype": "text/x-python",
   "name": "python",
   "nbconvert_exporter": "python",
   "pygments_lexer": "ipython3",
   "version": "3.6.4"
  }
 },
 "nbformat": 4,
 "nbformat_minor": 2
}
